{
 "cells": [
  {
   "cell_type": "markdown",
   "id": "27f51606",
   "metadata": {},
   "source": [
    "## Homework #6 Final project report and code\n",
    "#### Author: `Kate Luchka`"
   ]
  },
  {
   "cell_type": "code",
   "execution_count": 1,
   "id": "e40c43b2",
   "metadata": {},
   "outputs": [],
   "source": [
    "import pandas as pd\n",
    "import numpy as np\n",
    "import seaborn as sns\n",
    "import matplotlib.pyplot as plt\n",
    "\n",
    "import plotly.graph_objects as go\n",
    "from plotly.subplots import make_subplots\n",
    "\n",
    "import warnings\n",
    "warnings.filterwarnings('ignore')"
   ]
  },
  {
   "cell_type": "code",
   "execution_count": 2,
   "id": "a32d0001",
   "metadata": {},
   "outputs": [],
   "source": [
    "DIALOGS_MERGED_DATA_PATH = \"../data/merged_data/dialogs_data_all.csv\"\n",
    "DIALOGS_META_MERGED_DATA_PATH = \"../data/merged_data/dialogs_users_all.csv\""
   ]
  },
  {
   "cell_type": "code",
   "execution_count": 3,
   "id": "2ce6dfe2",
   "metadata": {},
   "outputs": [],
   "source": [
    "df = pd.read_csv(DIALOGS_MERGED_DATA_PATH)\n",
    "df_meta = pd.read_csv(DIALOGS_META_MERGED_DATA_PATH)\n",
    "df_new = pd.read_csv(DIALOGS_MERGED_DATA_PATH)\n",
    "data = pd.read_csv(DIALOGS_MERGED_DATA_PATH)\n",
    "low_memory=False"
   ]
  },
  {
   "cell_type": "markdown",
   "id": "0298cc23",
   "metadata": {},
   "source": [
    "#### Merging datasets:"
   ]
  },
  {
   "cell_type": "code",
   "execution_count": 67,
   "id": "3207f944",
   "metadata": {},
   "outputs": [],
   "source": [
    "a = df\n",
    "b = df_meta\n",
    "b = b.dropna(axis=1)\n",
    "merged = a.merge(b, on='dialog_id')"
   ]
  },
  {
   "cell_type": "code",
   "execution_count": 68,
   "id": "6f1d53fb",
   "metadata": {},
   "outputs": [
    {
     "data": {
      "text/html": [
       "<div>\n",
       "<style scoped>\n",
       "    .dataframe tbody tr th:only-of-type {\n",
       "        vertical-align: middle;\n",
       "    }\n",
       "\n",
       "    .dataframe tbody tr th {\n",
       "        vertical-align: top;\n",
       "    }\n",
       "\n",
       "    .dataframe thead th {\n",
       "        text-align: right;\n",
       "    }\n",
       "</style>\n",
       "<table border=\"1\" class=\"dataframe\">\n",
       "  <thead>\n",
       "    <tr style=\"text-align: right;\">\n",
       "      <th></th>\n",
       "      <th>id</th>\n",
       "      <th>date</th>\n",
       "      <th>from_id</th>\n",
       "      <th>to_id</th>\n",
       "      <th>fwd_from</th>\n",
       "      <th>message</th>\n",
       "      <th>type_x</th>\n",
       "      <th>duration</th>\n",
       "      <th>dialog_id</th>\n",
       "      <th>name</th>\n",
       "      <th>type_y</th>\n",
       "      <th>users</th>\n",
       "    </tr>\n",
       "  </thead>\n",
       "  <tbody>\n",
       "    <tr>\n",
       "      <th>0</th>\n",
       "      <td>219</td>\n",
       "      <td>2021-10-24 15:35:31+00:00</td>\n",
       "      <td>PeerUser(user_id=600188849)</td>\n",
       "      <td>PeerChannel(channel_id=1154285538)</td>\n",
       "      <td>NaN</td>\n",
       "      <td>NaN</td>\n",
       "      <td>photo</td>\n",
       "      <td>NaN</td>\n",
       "      <td>-1001154285538</td>\n",
       "      <td>Фемілі🤗</td>\n",
       "      <td>Group</td>\n",
       "      <td>{'user_id': 559072245, 'first_name': 'Катя', '...</td>\n",
       "    </tr>\n",
       "    <tr>\n",
       "      <th>1</th>\n",
       "      <td>218</td>\n",
       "      <td>2021-10-13 09:32:16+00:00</td>\n",
       "      <td>PeerUser(user_id=582254992)</td>\n",
       "      <td>PeerChannel(channel_id=1154285538)</td>\n",
       "      <td>NaN</td>\n",
       "      <td>NaN</td>\n",
       "      <td>photo</td>\n",
       "      <td>NaN</td>\n",
       "      <td>-1001154285538</td>\n",
       "      <td>Фемілі🤗</td>\n",
       "      <td>Group</td>\n",
       "      <td>{'user_id': 559072245, 'first_name': 'Катя', '...</td>\n",
       "    </tr>\n",
       "    <tr>\n",
       "      <th>2</th>\n",
       "      <td>217</td>\n",
       "      <td>2021-10-12 09:06:29+00:00</td>\n",
       "      <td>PeerUser(user_id=600188849)</td>\n",
       "      <td>PeerChannel(channel_id=1154285538)</td>\n",
       "      <td>NaN</td>\n",
       "      <td>Дійсно</td>\n",
       "      <td>text</td>\n",
       "      <td>NaN</td>\n",
       "      <td>-1001154285538</td>\n",
       "      <td>Фемілі🤗</td>\n",
       "      <td>Group</td>\n",
       "      <td>{'user_id': 559072245, 'first_name': 'Катя', '...</td>\n",
       "    </tr>\n",
       "    <tr>\n",
       "      <th>3</th>\n",
       "      <td>216</td>\n",
       "      <td>2021-10-12 09:06:25+00:00</td>\n",
       "      <td>PeerUser(user_id=600188849)</td>\n",
       "      <td>PeerChannel(channel_id=1154285538)</td>\n",
       "      <td>NaN</td>\n",
       "      <td>NaN</td>\n",
       "      <td>photo</td>\n",
       "      <td>NaN</td>\n",
       "      <td>-1001154285538</td>\n",
       "      <td>Фемілі🤗</td>\n",
       "      <td>Group</td>\n",
       "      <td>{'user_id': 559072245, 'first_name': 'Катя', '...</td>\n",
       "    </tr>\n",
       "    <tr>\n",
       "      <th>4</th>\n",
       "      <td>215</td>\n",
       "      <td>2021-10-12 09:02:59+00:00</td>\n",
       "      <td>PeerUser(user_id=582254992)</td>\n",
       "      <td>PeerChannel(channel_id=1154285538)</td>\n",
       "      <td>NaN</td>\n",
       "      <td>NaN</td>\n",
       "      <td>photo</td>\n",
       "      <td>NaN</td>\n",
       "      <td>-1001154285538</td>\n",
       "      <td>Фемілі🤗</td>\n",
       "      <td>Group</td>\n",
       "      <td>{'user_id': 559072245, 'first_name': 'Катя', '...</td>\n",
       "    </tr>\n",
       "  </tbody>\n",
       "</table>\n",
       "</div>"
      ],
      "text/plain": [
       "    id                       date                      from_id  \\\n",
       "0  219  2021-10-24 15:35:31+00:00  PeerUser(user_id=600188849)   \n",
       "1  218  2021-10-13 09:32:16+00:00  PeerUser(user_id=582254992)   \n",
       "2  217  2021-10-12 09:06:29+00:00  PeerUser(user_id=600188849)   \n",
       "3  216  2021-10-12 09:06:25+00:00  PeerUser(user_id=600188849)   \n",
       "4  215  2021-10-12 09:02:59+00:00  PeerUser(user_id=582254992)   \n",
       "\n",
       "                                to_id fwd_from message type_x  duration  \\\n",
       "0  PeerChannel(channel_id=1154285538)      NaN     NaN  photo       NaN   \n",
       "1  PeerChannel(channel_id=1154285538)      NaN     NaN  photo       NaN   \n",
       "2  PeerChannel(channel_id=1154285538)      NaN  Дійсно   text       NaN   \n",
       "3  PeerChannel(channel_id=1154285538)      NaN     NaN  photo       NaN   \n",
       "4  PeerChannel(channel_id=1154285538)      NaN     NaN  photo       NaN   \n",
       "\n",
       "       dialog_id     name type_y  \\\n",
       "0 -1001154285538  Фемілі🤗  Group   \n",
       "1 -1001154285538  Фемілі🤗  Group   \n",
       "2 -1001154285538  Фемілі🤗  Group   \n",
       "3 -1001154285538  Фемілі🤗  Group   \n",
       "4 -1001154285538  Фемілі🤗  Group   \n",
       "\n",
       "                                               users  \n",
       "0  {'user_id': 559072245, 'first_name': 'Катя', '...  \n",
       "1  {'user_id': 559072245, 'first_name': 'Катя', '...  \n",
       "2  {'user_id': 559072245, 'first_name': 'Катя', '...  \n",
       "3  {'user_id': 559072245, 'first_name': 'Катя', '...  \n",
       "4  {'user_id': 559072245, 'first_name': 'Катя', '...  "
      ]
     },
     "execution_count": 68,
     "metadata": {},
     "output_type": "execute_result"
    }
   ],
   "source": [
    "merged.head(5)"
   ]
  },
  {
   "cell_type": "markdown",
   "id": "04ab6efa",
   "metadata": {},
   "source": [
    "#### ----------------------------------------------------------------------------------------------------------------------------------------------------------------------------------------\n",
    "## ✔\n",
    "### ☞ Which words are used most often? \n",
    "### ☞ What is the frequency of those words?\n",
    "#### `Hypothesis: These words would be connectors, pronoun (especially 'I'); calling different telegram bots (their names) and (obviously) curse words.`\n",
    "#### I won't use any additional filters, stopwords intentionally here to observe all situation"
   ]
  },
  {
   "cell_type": "code",
   "execution_count": 4,
   "id": "855d5a70",
   "metadata": {},
   "outputs": [],
   "source": [
    "text = df[(df[\"type\"]==\"text\")].dropna(how='all')\n",
    "comm_word = text[['message','dialog_id']]"
   ]
  },
  {
   "cell_type": "code",
   "execution_count": 5,
   "id": "da19d187",
   "metadata": {},
   "outputs": [
    {
     "data": {
      "text/html": [
       "<div>\n",
       "<style scoped>\n",
       "    .dataframe tbody tr th:only-of-type {\n",
       "        vertical-align: middle;\n",
       "    }\n",
       "\n",
       "    .dataframe tbody tr th {\n",
       "        vertical-align: top;\n",
       "    }\n",
       "\n",
       "    .dataframe thead th {\n",
       "        text-align: right;\n",
       "    }\n",
       "</style>\n",
       "<table border=\"1\" class=\"dataframe\">\n",
       "  <thead>\n",
       "    <tr style=\"text-align: right;\">\n",
       "      <th></th>\n",
       "      <th>index</th>\n",
       "      <th>count</th>\n",
       "    </tr>\n",
       "  </thead>\n",
       "  <tbody>\n",
       "    <tr>\n",
       "      <th>176</th>\n",
       "      <td>не</td>\n",
       "      <td>52692</td>\n",
       "    </tr>\n",
       "    <tr>\n",
       "      <th>71</th>\n",
       "      <td>в</td>\n",
       "      <td>48159</td>\n",
       "    </tr>\n",
       "    <tr>\n",
       "      <th>2494</th>\n",
       "      <td>я</td>\n",
       "      <td>46019</td>\n",
       "    </tr>\n",
       "    <tr>\n",
       "      <th>109</th>\n",
       "      <td>на</td>\n",
       "      <td>38077</td>\n",
       "    </tr>\n",
       "    <tr>\n",
       "      <th>273</th>\n",
       "      <td>а</td>\n",
       "      <td>30418</td>\n",
       "    </tr>\n",
       "    <tr>\n",
       "      <th>4882</th>\n",
       "      <td>и</td>\n",
       "      <td>28599</td>\n",
       "    </tr>\n",
       "    <tr>\n",
       "      <th>181</th>\n",
       "      <td>у</td>\n",
       "      <td>19543</td>\n",
       "    </tr>\n",
       "    <tr>\n",
       "      <th>47</th>\n",
       "      <td>і</td>\n",
       "      <td>17210</td>\n",
       "    </tr>\n",
       "    <tr>\n",
       "      <th>15704</th>\n",
       "      <td>что</td>\n",
       "      <td>17106</td>\n",
       "    </tr>\n",
       "    <tr>\n",
       "      <th>631</th>\n",
       "      <td>так</td>\n",
       "      <td>15864</td>\n",
       "    </tr>\n",
       "  </tbody>\n",
       "</table>\n",
       "</div>"
      ],
      "text/plain": [
       "      index  count\n",
       "176      не  52692\n",
       "71        в  48159\n",
       "2494      я  46019\n",
       "109      на  38077\n",
       "273       а  30418\n",
       "4882      и  28599\n",
       "181       у  19543\n",
       "47        і  17210\n",
       "15704   что  17106\n",
       "631     так  15864"
      ]
     },
     "execution_count": 5,
     "metadata": {},
     "output_type": "execute_result"
    }
   ],
   "source": [
    "from collections import Counter\n",
    "a = comm_word.applymap(str)\n",
    "d = Counter(\" \".join(a[\"message\"]).lower().split())\n",
    "fr = pd.DataFrame.from_dict(d, orient='index').reset_index()\n",
    "fr.columns.values[1] = 'count'\n",
    "fr = fr.sort_values(by='count',ascending=False)\n",
    "fr.head(10)"
   ]
  },
  {
   "cell_type": "markdown",
   "id": "aec6f091",
   "metadata": {},
   "source": [
    "### ☞ What will be visual representation of most frequent words?\n",
    "### I'll use wordcloud to solve this problem"
   ]
  },
  {
   "cell_type": "code",
   "execution_count": 6,
   "id": "8b1fad89",
   "metadata": {},
   "outputs": [],
   "source": [
    "from pathlib import Path\n",
    "import matplotlib.pyplot as plt\n",
    "from wordcloud import STOPWORDS, WordCloud\n",
    "\n",
    "comm_word['message'].to_csv(r'C:\\Users\\Kate\\tgProject\\telegram-dialogs-analysis-v2-main\\wordcloud.txt', header=None, index=None, sep='\\t', mode='a')\n",
    "TXT_FILE = Path.cwd() / \"wordcloud.txt\"\n",
    "\n",
    "text = open(TXT_FILE, mode=\"r\", encoding=\"utf-8\").read()\n",
    "stopwords = STOPWORDS\n"
   ]
  },
  {
   "cell_type": "code",
   "execution_count": 7,
   "id": "23437cbf",
   "metadata": {},
   "outputs": [
    {
     "data": {
      "image/png": "[encoded data removed]",
      "text/plain": [
       "<Figure size 720x720 with 1 Axes>"
      ]
     },
     "metadata": {
      "needs_background": "light"
     },
     "output_type": "display_data"
    }
   ],
   "source": [
    "wc = WordCloud(background_color=\"white\", stopwords=stopwords, height=500, width=800)\n",
    "wc.generate(text)\n",
    "\n",
    "plt.figure(figsize = (10, 10), facecolor = None) \n",
    "plt.imshow(wc) \n",
    "plt.axis(\"off\") \n",
    "plt.tight_layout(pad = 0) \n",
    "  \n",
    "plt.show() "
   ]
  },
  {
   "cell_type": "markdown",
   "id": "09e188a8",
   "metadata": {},
   "source": [
    "### I wanted to find more creative approach to solve this problem. So I depicted wordcloud in `the shape of telegram icon`"
   ]
  },
  {
   "cell_type": "code",
   "execution_count": 8,
   "id": "a92a75b3",
   "metadata": {},
   "outputs": [
    {
     "data": {
      "image/png": "[encoded data removed]",
      "text/plain": [
       "<Figure size 720x720 with 1 Axes>"
      ]
     },
     "metadata": {
      "needs_background": "light"
     },
     "output_type": "display_data"
    }
   ],
   "source": [
    "from PIL import Image\n",
    "mask = np.array(Image.open('image2.jpg'))\n",
    "mwc  = WordCloud(background_color='black', mask = mask)\n",
    "mwc.generate(text)\n",
    "\n",
    "plt.figure(figsize = (10, 10)) \n",
    "plt.imshow(mwc) \n",
    "plt.axis(\"off\")  \n",
    "  \n",
    "plt.show() "
   ]
  },
  {
   "cell_type": "markdown",
   "id": "672491a5",
   "metadata": {},
   "source": [
    "#### ----------------------------------------------------------------------------------------------------------------------------------------------------------------------------------------\n",
    "## ✔\n",
    "### ☞ How many messages I sent and received per hour during all time? \n",
    "### ☞ Which hours are the most busy (according to number of messages) and which hours are mostly free from communicating?\n",
    "### ☞ What is the workday of avarage telegram user (when it starts and ends?)\n",
    "#### `Hypothesis: the most busy hours are working hours (from 8 am to 6 pm), and evening hours (chatting and burning deadlines); night hours (2 am - 5 am) are mostly free because usually most people are sleeping at this time`"
   ]
  },
  {
   "cell_type": "code",
   "execution_count": 9,
   "id": "38d97d26",
   "metadata": {},
   "outputs": [
    {
     "data": {
      "text/html": [
       "<div>\n",
       "<style scoped>\n",
       "    .dataframe tbody tr th:only-of-type {\n",
       "        vertical-align: middle;\n",
       "    }\n",
       "\n",
       "    .dataframe tbody tr th {\n",
       "        vertical-align: top;\n",
       "    }\n",
       "\n",
       "    .dataframe thead th {\n",
       "        text-align: right;\n",
       "    }\n",
       "</style>\n",
       "<table border=\"1\" class=\"dataframe\">\n",
       "  <thead>\n",
       "    <tr style=\"text-align: right;\">\n",
       "      <th></th>\n",
       "      <th>Hour</th>\n",
       "      <th>Number_of_Messages</th>\n",
       "    </tr>\n",
       "  </thead>\n",
       "  <tbody>\n",
       "    <tr>\n",
       "      <th>0</th>\n",
       "      <td>00</td>\n",
       "      <td>4388</td>\n",
       "    </tr>\n",
       "    <tr>\n",
       "      <th>1</th>\n",
       "      <td>01</td>\n",
       "      <td>1449</td>\n",
       "    </tr>\n",
       "    <tr>\n",
       "      <th>2</th>\n",
       "      <td>02</td>\n",
       "      <td>2028</td>\n",
       "    </tr>\n",
       "    <tr>\n",
       "      <th>3</th>\n",
       "      <td>03</td>\n",
       "      <td>1577</td>\n",
       "    </tr>\n",
       "    <tr>\n",
       "      <th>4</th>\n",
       "      <td>04</td>\n",
       "      <td>1971</td>\n",
       "    </tr>\n",
       "    <tr>\n",
       "      <th>5</th>\n",
       "      <td>05</td>\n",
       "      <td>5086</td>\n",
       "    </tr>\n",
       "    <tr>\n",
       "      <th>6</th>\n",
       "      <td>06</td>\n",
       "      <td>12049</td>\n",
       "    </tr>\n",
       "    <tr>\n",
       "      <th>7</th>\n",
       "      <td>07</td>\n",
       "      <td>25423</td>\n",
       "    </tr>\n",
       "    <tr>\n",
       "      <th>8</th>\n",
       "      <td>08</td>\n",
       "      <td>46406</td>\n",
       "    </tr>\n",
       "    <tr>\n",
       "      <th>9</th>\n",
       "      <td>09</td>\n",
       "      <td>41394</td>\n",
       "    </tr>\n",
       "    <tr>\n",
       "      <th>10</th>\n",
       "      <td>10</td>\n",
       "      <td>37544</td>\n",
       "    </tr>\n",
       "    <tr>\n",
       "      <th>11</th>\n",
       "      <td>11</td>\n",
       "      <td>31790</td>\n",
       "    </tr>\n",
       "    <tr>\n",
       "      <th>12</th>\n",
       "      <td>12</td>\n",
       "      <td>27717</td>\n",
       "    </tr>\n",
       "    <tr>\n",
       "      <th>13</th>\n",
       "      <td>13</td>\n",
       "      <td>29431</td>\n",
       "    </tr>\n",
       "    <tr>\n",
       "      <th>14</th>\n",
       "      <td>14</td>\n",
       "      <td>28395</td>\n",
       "    </tr>\n",
       "    <tr>\n",
       "      <th>15</th>\n",
       "      <td>15</td>\n",
       "      <td>29590</td>\n",
       "    </tr>\n",
       "    <tr>\n",
       "      <th>16</th>\n",
       "      <td>16</td>\n",
       "      <td>28065</td>\n",
       "    </tr>\n",
       "    <tr>\n",
       "      <th>17</th>\n",
       "      <td>17</td>\n",
       "      <td>31064</td>\n",
       "    </tr>\n",
       "    <tr>\n",
       "      <th>18</th>\n",
       "      <td>18</td>\n",
       "      <td>33665</td>\n",
       "    </tr>\n",
       "    <tr>\n",
       "      <th>19</th>\n",
       "      <td>19</td>\n",
       "      <td>33630</td>\n",
       "    </tr>\n",
       "    <tr>\n",
       "      <th>20</th>\n",
       "      <td>20</td>\n",
       "      <td>37620</td>\n",
       "    </tr>\n",
       "    <tr>\n",
       "      <th>21</th>\n",
       "      <td>21</td>\n",
       "      <td>39525</td>\n",
       "    </tr>\n",
       "    <tr>\n",
       "      <th>22</th>\n",
       "      <td>22</td>\n",
       "      <td>27774</td>\n",
       "    </tr>\n",
       "    <tr>\n",
       "      <th>23</th>\n",
       "      <td>23</td>\n",
       "      <td>12520</td>\n",
       "    </tr>\n",
       "  </tbody>\n",
       "</table>\n",
       "</div>"
      ],
      "text/plain": [
       "   Hour  Number_of_Messages\n",
       "0    00                4388\n",
       "1    01                1449\n",
       "2    02                2028\n",
       "3    03                1577\n",
       "4    04                1971\n",
       "5    05                5086\n",
       "6    06               12049\n",
       "7    07               25423\n",
       "8    08               46406\n",
       "9    09               41394\n",
       "10   10               37544\n",
       "11   11               31790\n",
       "12   12               27717\n",
       "13   13               29431\n",
       "14   14               28395\n",
       "15   15               29590\n",
       "16   16               28065\n",
       "17   17               31064\n",
       "18   18               33665\n",
       "19   19               33630\n",
       "20   20               37620\n",
       "21   21               39525\n",
       "22   22               27774\n",
       "23   23               12520"
      ]
     },
     "execution_count": 9,
     "metadata": {},
     "output_type": "execute_result"
    }
   ],
   "source": [
    "time_data = df_new.copy()\n",
    "time_data['date'] = pd.to_datetime(time_data['date']) \n",
    "time_data['date'] = time_data['date'].dt.strftime('%H')\n",
    "time_data = time_data.groupby(['date']).size().reset_index(name='count')\n",
    "time_data.rename(columns = {'date':'Hour', 'count':'Number_of_Messages'}, inplace = True)\n",
    "time_data"
   ]
  },
  {
   "cell_type": "code",
   "execution_count": 10,
   "id": "5b8431ca",
   "metadata": {},
   "outputs": [
    {
     "data": {
      "image/png": "[encoded data removed]",
      "text/plain": [
       "<Figure size 720x432 with 1 Axes>"
      ]
     },
     "metadata": {},
     "output_type": "display_data"
    }
   ],
   "source": [
    "plt.style.use('fivethirtyeight')\n",
    "fig, ax = plt.subplots(figsize=(10,6), facecolor='white')\n",
    " \n",
    "ax.bar(time_data.Hour, time_data.Number_of_Messages, color='orange')\n",
    "ax.set_xticklabels(time_data.Hour)\n",
    "plt.xlabel(\"Hour of a day (00-23)\")\n",
    "plt.ylabel(\"Number of messages\")\n",
    "plt.title('Number of messages sent/recieved per hour during all time')\n",
    "ax.set_facecolor('white')"
   ]
  },
  {
   "cell_type": "markdown",
   "id": "7e1d210a",
   "metadata": {},
   "source": [
    "### ☞ How many messages I sent and received per hour during all time?\n",
    "### Separately received and sent"
   ]
  },
  {
   "cell_type": "code",
   "execution_count": 192,
   "id": "a065876d",
   "metadata": {},
   "outputs": [
    {
     "data": {
      "text/html": [
       "<div>\n",
       "<style scoped>\n",
       "    .dataframe tbody tr th:only-of-type {\n",
       "        vertical-align: middle;\n",
       "    }\n",
       "\n",
       "    .dataframe tbody tr th {\n",
       "        vertical-align: top;\n",
       "    }\n",
       "\n",
       "    .dataframe thead th {\n",
       "        text-align: right;\n",
       "    }\n",
       "</style>\n",
       "<table border=\"1\" class=\"dataframe\">\n",
       "  <thead>\n",
       "    <tr style=\"text-align: right;\">\n",
       "      <th></th>\n",
       "      <th>Hour</th>\n",
       "      <th>sended</th>\n",
       "      <th>recieved</th>\n",
       "    </tr>\n",
       "  </thead>\n",
       "  <tbody>\n",
       "    <tr>\n",
       "      <th>0</th>\n",
       "      <td>00</td>\n",
       "      <td>298</td>\n",
       "      <td>4090</td>\n",
       "    </tr>\n",
       "    <tr>\n",
       "      <th>1</th>\n",
       "      <td>01</td>\n",
       "      <td>41</td>\n",
       "      <td>1408</td>\n",
       "    </tr>\n",
       "    <tr>\n",
       "      <th>2</th>\n",
       "      <td>02</td>\n",
       "      <td>3</td>\n",
       "      <td>2025</td>\n",
       "    </tr>\n",
       "    <tr>\n",
       "      <th>3</th>\n",
       "      <td>03</td>\n",
       "      <td>2</td>\n",
       "      <td>1575</td>\n",
       "    </tr>\n",
       "    <tr>\n",
       "      <th>4</th>\n",
       "      <td>04</td>\n",
       "      <td>14</td>\n",
       "      <td>1957</td>\n",
       "    </tr>\n",
       "    <tr>\n",
       "      <th>5</th>\n",
       "      <td>05</td>\n",
       "      <td>254</td>\n",
       "      <td>4832</td>\n",
       "    </tr>\n",
       "    <tr>\n",
       "      <th>6</th>\n",
       "      <td>06</td>\n",
       "      <td>784</td>\n",
       "      <td>11265</td>\n",
       "    </tr>\n",
       "    <tr>\n",
       "      <th>7</th>\n",
       "      <td>07</td>\n",
       "      <td>1793</td>\n",
       "      <td>23630</td>\n",
       "    </tr>\n",
       "    <tr>\n",
       "      <th>8</th>\n",
       "      <td>08</td>\n",
       "      <td>3321</td>\n",
       "      <td>43085</td>\n",
       "    </tr>\n",
       "    <tr>\n",
       "      <th>9</th>\n",
       "      <td>09</td>\n",
       "      <td>2605</td>\n",
       "      <td>38789</td>\n",
       "    </tr>\n",
       "    <tr>\n",
       "      <th>10</th>\n",
       "      <td>10</td>\n",
       "      <td>3028</td>\n",
       "      <td>34516</td>\n",
       "    </tr>\n",
       "    <tr>\n",
       "      <th>11</th>\n",
       "      <td>11</td>\n",
       "      <td>2281</td>\n",
       "      <td>29509</td>\n",
       "    </tr>\n",
       "    <tr>\n",
       "      <th>12</th>\n",
       "      <td>12</td>\n",
       "      <td>1610</td>\n",
       "      <td>26107</td>\n",
       "    </tr>\n",
       "    <tr>\n",
       "      <th>13</th>\n",
       "      <td>13</td>\n",
       "      <td>1812</td>\n",
       "      <td>27619</td>\n",
       "    </tr>\n",
       "    <tr>\n",
       "      <th>14</th>\n",
       "      <td>14</td>\n",
       "      <td>1435</td>\n",
       "      <td>26960</td>\n",
       "    </tr>\n",
       "    <tr>\n",
       "      <th>15</th>\n",
       "      <td>15</td>\n",
       "      <td>1454</td>\n",
       "      <td>28136</td>\n",
       "    </tr>\n",
       "    <tr>\n",
       "      <th>16</th>\n",
       "      <td>16</td>\n",
       "      <td>1307</td>\n",
       "      <td>26758</td>\n",
       "    </tr>\n",
       "    <tr>\n",
       "      <th>17</th>\n",
       "      <td>17</td>\n",
       "      <td>1595</td>\n",
       "      <td>29469</td>\n",
       "    </tr>\n",
       "    <tr>\n",
       "      <th>18</th>\n",
       "      <td>18</td>\n",
       "      <td>1638</td>\n",
       "      <td>32027</td>\n",
       "    </tr>\n",
       "    <tr>\n",
       "      <th>19</th>\n",
       "      <td>19</td>\n",
       "      <td>2953</td>\n",
       "      <td>30677</td>\n",
       "    </tr>\n",
       "    <tr>\n",
       "      <th>20</th>\n",
       "      <td>20</td>\n",
       "      <td>3000</td>\n",
       "      <td>34620</td>\n",
       "    </tr>\n",
       "    <tr>\n",
       "      <th>21</th>\n",
       "      <td>21</td>\n",
       "      <td>2839</td>\n",
       "      <td>36686</td>\n",
       "    </tr>\n",
       "    <tr>\n",
       "      <th>22</th>\n",
       "      <td>22</td>\n",
       "      <td>2226</td>\n",
       "      <td>25548</td>\n",
       "    </tr>\n",
       "    <tr>\n",
       "      <th>23</th>\n",
       "      <td>23</td>\n",
       "      <td>837</td>\n",
       "      <td>11683</td>\n",
       "    </tr>\n",
       "  </tbody>\n",
       "</table>\n",
       "</div>"
      ],
      "text/plain": [
       "   Hour  sended  recieved\n",
       "0    00     298      4090\n",
       "1    01      41      1408\n",
       "2    02       3      2025\n",
       "3    03       2      1575\n",
       "4    04      14      1957\n",
       "5    05     254      4832\n",
       "6    06     784     11265\n",
       "7    07    1793     23630\n",
       "8    08    3321     43085\n",
       "9    09    2605     38789\n",
       "10   10    3028     34516\n",
       "11   11    2281     29509\n",
       "12   12    1610     26107\n",
       "13   13    1812     27619\n",
       "14   14    1435     26960\n",
       "15   15    1454     28136\n",
       "16   16    1307     26758\n",
       "17   17    1595     29469\n",
       "18   18    1638     32027\n",
       "19   19    2953     30677\n",
       "20   20    3000     34620\n",
       "21   21    2839     36686\n",
       "22   22    2226     25548\n",
       "23   23     837     11683"
      ]
     },
     "execution_count": 192,
     "metadata": {},
     "output_type": "execute_result"
    }
   ],
   "source": [
    "hour_df = df_new.copy()\n",
    "hour_df['date'] = pd.to_datetime(hour_df['date']) \n",
    "hour_df['date'] = hour_df['date'].dt.strftime('%H')\n",
    "hour_df['sended'] = np.where(hour_df['from_id'] == \"PeerUser(user_id=559072245)\", 1, 0)\n",
    "hour_df['recieved'] = 1-hour_df['sended']\n",
    "hour_df = hour_df.groupby('date', as_index=False)[['sended', 'recieved']].sum()\n",
    "hour_df.rename(columns = {'date':'Hour'}, inplace = True)\n",
    "hour_df"
   ]
  },
  {
   "cell_type": "code",
   "execution_count": 216,
   "id": "38d29527",
   "metadata": {},
   "outputs": [
    {
     "data": {
      "application/vnd.plotly.v1+json": {
       "config": {
        "plotlyServerURL": "https://plot.ly"
       },
       "data": [
        {
         "name": "received",
         "type": "scatter",
         "x": [
          "00",
          "01",
          "02",
          "03",
          "04",
          "05",
          "06",
          "07",
          "08",
          "09",
          "10",
          "11",
          "12",
          "13",
          "14",
          "15",
          "16",
          "17",
          "18",
          "19",
          "20",
          "21",
          "22",
          "23"
         ],
         "y": [
          4090,
          1408,
          2025,
          1575,
          1957,
          4832,
          11265,
          23630,
          43085,
          38789,
          34516,
          29509,
          26107,
          27619,
          26960,
          28136,
          26758,
          29469,
          32027,
          30677,
          34620,
          36686,
          25548,
          11683
         ]
        },
        {
         "name": "sended",
         "type": "scatter",
         "x": [
          "00",
          "01",
          "02",
          "03",
          "04",
          "05",
          "06",
          "07",
          "08",
          "09",
          "10",
          "11",
          "12",
          "13",
          "14",
          "15",
          "16",
          "17",
          "18",
          "19",
          "20",
          "21",
          "22",
          "23"
         ],
         "y": [
          298,
          41,
          3,
          2,
          14,
          254,
          784,
          1793,
          3321,
          2605,
          3028,
          2281,
          1610,
          1812,
          1435,
          1454,
          1307,
          1595,
          1638,
          2953,
          3000,
          2839,
          2226,
          837
         ]
        }
       ],
       "layout": {
        "template": {
         "data": {
          "bar": [
           {
            "error_x": {
             "color": "#2a3f5f"
            },
            "error_y": {
             "color": "#2a3f5f"
            },
            "marker": {
             "line": {
              "color": "#E5ECF6",
              "width": 0.5
             }
            },
            "type": "bar"
           }
          ],
          "barpolar": [
           {
            "marker": {
             "line": {
              "color": "#E5ECF6",
              "width": 0.5
             }
            },
            "type": "barpolar"
           }
          ],
          "carpet": [
           {
            "aaxis": {
             "endlinecolor": "#2a3f5f",
             "gridcolor": "white",
             "linecolor": "white",
             "minorgridcolor": "white",
             "startlinecolor": "#2a3f5f"
            },
            "baxis": {
             "endlinecolor": "#2a3f5f",
             "gridcolor": "white",
             "linecolor": "white",
             "minorgridcolor": "white",
             "startlinecolor": "#2a3f5f"
            },
            "type": "carpet"
           }
          ],
          "choropleth": [
           {
            "colorbar": {
             "outlinewidth": 0,
             "ticks": ""
            },
            "type": "choropleth"
           }
          ],
          "contour": [
           {
            "colorbar": {
             "outlinewidth": 0,
             "ticks": ""
            },
            "colorscale": [
             [
              0,
              "#0d0887"
             ],
             [
              0.1111111111111111,
              "#46039f"
             ],
             [
              0.2222222222222222,
              "#7201a8"
             ],
             [
              0.3333333333333333,
              "#9c179e"
             ],
             [
              0.4444444444444444,
              "#bd3786"
             ],
             [
              0.5555555555555556,
              "#d8576b"
             ],
             [
              0.6666666666666666,
              "#ed7953"
             ],
             [
              0.7777777777777778,
              "#fb9f3a"
             ],
             [
              0.8888888888888888,
              "#fdca26"
             ],
             [
              1,
              "#f0f921"
             ]
            ],
            "type": "contour"
           }
          ],
          "contourcarpet": [
           {
            "colorbar": {
             "outlinewidth": 0,
             "ticks": ""
            },
            "type": "contourcarpet"
           }
          ],
          "heatmap": [
           {
            "colorbar": {
             "outlinewidth": 0,
             "ticks": ""
            },
            "colorscale": [
             [
              0,
              "#0d0887"
             ],
             [
              0.1111111111111111,
              "#46039f"
             ],
             [
              0.2222222222222222,
              "#7201a8"
             ],
             [
              0.3333333333333333,
              "#9c179e"
             ],
             [
              0.4444444444444444,
              "#bd3786"
             ],
             [
              0.5555555555555556,
              "#d8576b"
             ],
             [
              0.6666666666666666,
              "#ed7953"
             ],
             [
              0.7777777777777778,
              "#fb9f3a"
             ],
             [
              0.8888888888888888,
              "#fdca26"
             ],
             [
              1,
              "#f0f921"
             ]
            ],
            "type": "heatmap"
           }
          ],
          "heatmapgl": [
           {
            "colorbar": {
             "outlinewidth": 0,
             "ticks": ""
            },
            "colorscale": [
             [
              0,
              "#0d0887"
             ],
             [
              0.1111111111111111,
              "#46039f"
             ],
             [
              0.2222222222222222,
              "#7201a8"
             ],
             [
              0.3333333333333333,
              "#9c179e"
             ],
             [
              0.4444444444444444,
              "#bd3786"
             ],
             [
              0.5555555555555556,
              "#d8576b"
             ],
             [
              0.6666666666666666,
              "#ed7953"
             ],
             [
              0.7777777777777778,
              "#fb9f3a"
             ],
             [
              0.8888888888888888,
              "#fdca26"
             ],
             [
              1,
              "#f0f921"
             ]
            ],
            "type": "heatmapgl"
           }
          ],
          "histogram": [
           {
            "marker": {
             "colorbar": {
              "outlinewidth": 0,
              "ticks": ""
             }
            },
            "type": "histogram"
           }
          ],
          "histogram2d": [
           {
            "colorbar": {
             "outlinewidth": 0,
             "ticks": ""
            },
            "colorscale": [
             [
              0,
              "#0d0887"
             ],
             [
              0.1111111111111111,
              "#46039f"
             ],
             [
              0.2222222222222222,
              "#7201a8"
             ],
             [
              0.3333333333333333,
              "#9c179e"
             ],
             [
              0.4444444444444444,
              "#bd3786"
             ],
             [
              0.5555555555555556,
              "#d8576b"
             ],
             [
              0.6666666666666666,
              "#ed7953"
             ],
             [
              0.7777777777777778,
              "#fb9f3a"
             ],
             [
              0.8888888888888888,
              "#fdca26"
             ],
             [
              1,
              "#f0f921"
             ]
            ],
            "type": "histogram2d"
           }
          ],
          "histogram2dcontour": [
           {
            "colorbar": {
             "outlinewidth": 0,
             "ticks": ""
            },
            "colorscale": [
             [
              0,
              "#0d0887"
             ],
             [
              0.1111111111111111,
              "#46039f"
             ],
             [
              0.2222222222222222,
              "#7201a8"
             ],
             [
              0.3333333333333333,
              "#9c179e"
             ],
             [
              0.4444444444444444,
              "#bd3786"
             ],
             [
              0.5555555555555556,
              "#d8576b"
             ],
             [
              0.6666666666666666,
              "#ed7953"
             ],
             [
              0.7777777777777778,
              "#fb9f3a"
             ],
             [
              0.8888888888888888,
              "#fdca26"
             ],
             [
              1,
              "#f0f921"
             ]
            ],
            "type": "histogram2dcontour"
           }
          ],
          "mesh3d": [
           {
            "colorbar": {
             "outlinewidth": 0,
             "ticks": ""
            },
            "type": "mesh3d"
           }
          ],
          "parcoords": [
           {
            "line": {
             "colorbar": {
              "outlinewidth": 0,
              "ticks": ""
             }
            },
            "type": "parcoords"
           }
          ],
          "pie": [
           {
            "automargin": true,
            "type": "pie"
           }
          ],
          "scatter": [
           {
            "marker": {
             "colorbar": {
              "outlinewidth": 0,
              "ticks": ""
             }
            },
            "type": "scatter"
           }
          ],
          "scatter3d": [
           {
            "line": {
             "colorbar": {
              "outlinewidth": 0,
              "ticks": ""
             }
            },
            "marker": {
             "colorbar": {
              "outlinewidth": 0,
              "ticks": ""
             }
            },
            "type": "scatter3d"
           }
          ],
          "scattercarpet": [
           {
            "marker": {
             "colorbar": {
              "outlinewidth": 0,
              "ticks": ""
             }
            },
            "type": "scattercarpet"
           }
          ],
          "scattergeo": [
           {
            "marker": {
             "colorbar": {
              "outlinewidth": 0,
              "ticks": ""
             }
            },
            "type": "scattergeo"
           }
          ],
          "scattergl": [
           {
            "marker": {
             "colorbar": {
              "outlinewidth": 0,
              "ticks": ""
             }
            },
            "type": "scattergl"
           }
          ],
          "scattermapbox": [
           {
            "marker": {
             "colorbar": {
              "outlinewidth": 0,
              "ticks": ""
             }
            },
            "type": "scattermapbox"
           }
          ],
          "scatterpolar": [
           {
            "marker": {
             "colorbar": {
              "outlinewidth": 0,
              "ticks": ""
             }
            },
            "type": "scatterpolar"
           }
          ],
          "scatterpolargl": [
           {
            "marker": {
             "colorbar": {
              "outlinewidth": 0,
              "ticks": ""
             }
            },
            "type": "scatterpolargl"
           }
          ],
          "scatterternary": [
           {
            "marker": {
             "colorbar": {
              "outlinewidth": 0,
              "ticks": ""
             }
            },
            "type": "scatterternary"
           }
          ],
          "surface": [
           {
            "colorbar": {
             "outlinewidth": 0,
             "ticks": ""
            },
            "colorscale": [
             [
              0,
              "#0d0887"
             ],
             [
              0.1111111111111111,
              "#46039f"
             ],
             [
              0.2222222222222222,
              "#7201a8"
             ],
             [
              0.3333333333333333,
              "#9c179e"
             ],
             [
              0.4444444444444444,
              "#bd3786"
             ],
             [
              0.5555555555555556,
              "#d8576b"
             ],
             [
              0.6666666666666666,
              "#ed7953"
             ],
             [
              0.7777777777777778,
              "#fb9f3a"
             ],
             [
              0.8888888888888888,
              "#fdca26"
             ],
             [
              1,
              "#f0f921"
             ]
            ],
            "type": "surface"
           }
          ],
          "table": [
           {
            "cells": {
             "fill": {
              "color": "#EBF0F8"
             },
             "line": {
              "color": "white"
             }
            },
            "header": {
             "fill": {
              "color": "#C8D4E3"
             },
             "line": {
              "color": "white"
             }
            },
            "type": "table"
           }
          ]
         },
         "layout": {
          "annotationdefaults": {
           "arrowcolor": "#2a3f5f",
           "arrowhead": 0,
           "arrowwidth": 1
          },
          "autotypenumbers": "strict",
          "coloraxis": {
           "colorbar": {
            "outlinewidth": 0,
            "ticks": ""
           }
          },
          "colorscale": {
           "diverging": [
            [
             0,
             "#8e0152"
            ],
            [
             0.1,
             "#c51b7d"
            ],
            [
             0.2,
             "#de77ae"
            ],
            [
             0.3,
             "#f1b6da"
            ],
            [
             0.4,
             "#fde0ef"
            ],
            [
             0.5,
             "#f7f7f7"
            ],
            [
             0.6,
             "#e6f5d0"
            ],
            [
             0.7,
             "#b8e186"
            ],
            [
             0.8,
             "#7fbc41"
            ],
            [
             0.9,
             "#4d9221"
            ],
            [
             1,
             "#276419"
            ]
           ],
           "sequential": [
            [
             0,
             "#0d0887"
            ],
            [
             0.1111111111111111,
             "#46039f"
            ],
            [
             0.2222222222222222,
             "#7201a8"
            ],
            [
             0.3333333333333333,
             "#9c179e"
            ],
            [
             0.4444444444444444,
             "#bd3786"
            ],
            [
             0.5555555555555556,
             "#d8576b"
            ],
            [
             0.6666666666666666,
             "#ed7953"
            ],
            [
             0.7777777777777778,
             "#fb9f3a"
            ],
            [
             0.8888888888888888,
             "#fdca26"
            ],
            [
             1,
             "#f0f921"
            ]
           ],
           "sequentialminus": [
            [
             0,
             "#0d0887"
            ],
            [
             0.1111111111111111,
             "#46039f"
            ],
            [
             0.2222222222222222,
             "#7201a8"
            ],
            [
             0.3333333333333333,
             "#9c179e"
            ],
            [
             0.4444444444444444,
             "#bd3786"
            ],
            [
             0.5555555555555556,
             "#d8576b"
            ],
            [
             0.6666666666666666,
             "#ed7953"
            ],
            [
             0.7777777777777778,
             "#fb9f3a"
            ],
            [
             0.8888888888888888,
             "#fdca26"
            ],
            [
             1,
             "#f0f921"
            ]
           ]
          },
          "colorway": [
           "#636efa",
           "#EF553B",
           "#00cc96",
           "#ab63fa",
           "#FFA15A",
           "#19d3f3",
           "#FF6692",
           "#B6E880",
           "#FF97FF",
           "#FECB52"
          ],
          "font": {
           "color": "#2a3f5f"
          },
          "geo": {
           "bgcolor": "white",
           "lakecolor": "white",
           "landcolor": "#E5ECF6",
           "showlakes": true,
           "showland": true,
           "subunitcolor": "white"
          },
          "hoverlabel": {
           "align": "left"
          },
          "hovermode": "closest",
          "mapbox": {
           "style": "light"
          },
          "paper_bgcolor": "white",
          "plot_bgcolor": "#E5ECF6",
          "polar": {
           "angularaxis": {
            "gridcolor": "white",
            "linecolor": "white",
            "ticks": ""
           },
           "bgcolor": "#E5ECF6",
           "radialaxis": {
            "gridcolor": "white",
            "linecolor": "white",
            "ticks": ""
           }
          },
          "scene": {
           "xaxis": {
            "backgroundcolor": "#E5ECF6",
            "gridcolor": "white",
            "gridwidth": 2,
            "linecolor": "white",
            "showbackground": true,
            "ticks": "",
            "zerolinecolor": "white"
           },
           "yaxis": {
            "backgroundcolor": "#E5ECF6",
            "gridcolor": "white",
            "gridwidth": 2,
            "linecolor": "white",
            "showbackground": true,
            "ticks": "",
            "zerolinecolor": "white"
           },
           "zaxis": {
            "backgroundcolor": "#E5ECF6",
            "gridcolor": "white",
            "gridwidth": 2,
            "linecolor": "white",
            "showbackground": true,
            "ticks": "",
            "zerolinecolor": "white"
           }
          },
          "shapedefaults": {
           "line": {
            "color": "#2a3f5f"
           }
          },
          "ternary": {
           "aaxis": {
            "gridcolor": "white",
            "linecolor": "white",
            "ticks": ""
           },
           "baxis": {
            "gridcolor": "white",
            "linecolor": "white",
            "ticks": ""
           },
           "bgcolor": "#E5ECF6",
           "caxis": {
            "gridcolor": "white",
            "linecolor": "white",
            "ticks": ""
           }
          },
          "title": {
           "x": 0.05
          },
          "xaxis": {
           "automargin": true,
           "gridcolor": "white",
           "linecolor": "white",
           "ticks": "",
           "title": {
            "standoff": 15
           },
           "zerolinecolor": "white",
           "zerolinewidth": 2
          },
          "yaxis": {
           "automargin": true,
           "gridcolor": "white",
           "linecolor": "white",
           "ticks": "",
           "title": {
            "standoff": 15
           },
           "zerolinecolor": "white",
           "zerolinewidth": 2
          }
         }
        },
        "title": {
         "text": "Number of messages sent/recieved per hour during all time"
        },
        "xaxis": {
         "title": {
          "text": "Hour of a day (00-23)"
         }
        },
        "yaxis": {
         "title": {
          "text": "Number of messages"
         }
        }
       }
      },
      "text/html": [
       "<div>                            <div id=\"7fad147a-e7cd-40f2-968a-4584e6cc8b07\" class=\"plotly-graph-div\" style=\"height:525px; width:100%;\"></div>            <script type=\"text/javascript\">                require([\"plotly\"], function(Plotly) {                    window.PLOTLYENV=window.PLOTLYENV || {};                                    if (document.getElementById(\"7fad147a-e7cd-40f2-968a-4584e6cc8b07\")) {                    Plotly.newPlot(                        \"7fad147a-e7cd-40f2-968a-4584e6cc8b07\",                        [{\"name\": \"received\", \"type\": \"scatter\", \"x\": [\"00\", \"01\", \"02\", \"03\", \"04\", \"05\", \"06\", \"07\", \"08\", \"09\", \"10\", \"11\", \"12\", \"13\", \"14\", \"15\", \"16\", \"17\", \"18\", \"19\", \"20\", \"21\", \"22\", \"23\"], \"y\": [4090, 1408, 2025, 1575, 1957, 4832, 11265, 23630, 43085, 38789, 34516, 29509, 26107, 27619, 26960, 28136, 26758, 29469, 32027, 30677, 34620, 36686, 25548, 11683]}, {\"name\": \"sended\", \"type\": \"scatter\", \"x\": [\"00\", \"01\", \"02\", \"03\", \"04\", \"05\", \"06\", \"07\", \"08\", \"09\", \"10\", \"11\", \"12\", \"13\", \"14\", \"15\", \"16\", \"17\", \"18\", \"19\", \"20\", \"21\", \"22\", \"23\"], \"y\": [298, 41, 3, 2, 14, 254, 784, 1793, 3321, 2605, 3028, 2281, 1610, 1812, 1435, 1454, 1307, 1595, 1638, 2953, 3000, 2839, 2226, 837]}],                        {\"template\": {\"data\": {\"bar\": [{\"error_x\": {\"color\": \"#2a3f5f\"}, \"error_y\": {\"color\": \"#2a3f5f\"}, \"marker\": {\"line\": {\"color\": \"#E5ECF6\", \"width\": 0.5}}, \"type\": \"bar\"}], \"barpolar\": [{\"marker\": {\"line\": {\"color\": \"#E5ECF6\", \"width\": 0.5}}, \"type\": \"barpolar\"}], \"carpet\": [{\"aaxis\": {\"endlinecolor\": \"#2a3f5f\", \"gridcolor\": \"white\", \"linecolor\": \"white\", \"minorgridcolor\": \"white\", \"startlinecolor\": \"#2a3f5f\"}, \"baxis\": {\"endlinecolor\": \"#2a3f5f\", \"gridcolor\": \"white\", \"linecolor\": \"white\", \"minorgridcolor\": \"white\", \"startlinecolor\": \"#2a3f5f\"}, \"type\": \"carpet\"}], \"choropleth\": [{\"colorbar\": {\"outlinewidth\": 0, \"ticks\": \"\"}, \"type\": \"choropleth\"}], \"contour\": [{\"colorbar\": {\"outlinewidth\": 0, \"ticks\": \"\"}, \"colorscale\": [[0.0, \"#0d0887\"], [0.1111111111111111, \"#46039f\"], [0.2222222222222222, \"#7201a8\"], [0.3333333333333333, \"#9c179e\"], [0.4444444444444444, \"#bd3786\"], [0.5555555555555556, \"#d8576b\"], [0.6666666666666666, \"#ed7953\"], [0.7777777777777778, \"#fb9f3a\"], [0.8888888888888888, \"#fdca26\"], [1.0, \"#f0f921\"]], \"type\": \"contour\"}], \"contourcarpet\": [{\"colorbar\": {\"outlinewidth\": 0, \"ticks\": \"\"}, \"type\": \"contourcarpet\"}], \"heatmap\": [{\"colorbar\": {\"outlinewidth\": 0, \"ticks\": \"\"}, \"colorscale\": [[0.0, \"#0d0887\"], [0.1111111111111111, \"#46039f\"], [0.2222222222222222, \"#7201a8\"], [0.3333333333333333, \"#9c179e\"], [0.4444444444444444, \"#bd3786\"], [0.5555555555555556, \"#d8576b\"], [0.6666666666666666, \"#ed7953\"], [0.7777777777777778, \"#fb9f3a\"], [0.8888888888888888, \"#fdca26\"], [1.0, \"#f0f921\"]], \"type\": \"heatmap\"}], \"heatmapgl\": [{\"colorbar\": {\"outlinewidth\": 0, \"ticks\": \"\"}, \"colorscale\": [[0.0, \"#0d0887\"], [0.1111111111111111, \"#46039f\"], [0.2222222222222222, \"#7201a8\"], [0.3333333333333333, \"#9c179e\"], [0.4444444444444444, \"#bd3786\"], [0.5555555555555556, \"#d8576b\"], [0.6666666666666666, \"#ed7953\"], [0.7777777777777778, \"#fb9f3a\"], [0.8888888888888888, \"#fdca26\"], [1.0, \"#f0f921\"]], \"type\": \"heatmapgl\"}], \"histogram\": [{\"marker\": {\"colorbar\": {\"outlinewidth\": 0, \"ticks\": \"\"}}, \"type\": \"histogram\"}], \"histogram2d\": [{\"colorbar\": {\"outlinewidth\": 0, \"ticks\": \"\"}, \"colorscale\": [[0.0, \"#0d0887\"], [0.1111111111111111, \"#46039f\"], [0.2222222222222222, \"#7201a8\"], [0.3333333333333333, \"#9c179e\"], [0.4444444444444444, \"#bd3786\"], [0.5555555555555556, \"#d8576b\"], [0.6666666666666666, \"#ed7953\"], [0.7777777777777778, \"#fb9f3a\"], [0.8888888888888888, \"#fdca26\"], [1.0, \"#f0f921\"]], \"type\": \"histogram2d\"}], \"histogram2dcontour\": [{\"colorbar\": {\"outlinewidth\": 0, \"ticks\": \"\"}, \"colorscale\": [[0.0, \"#0d0887\"], [0.1111111111111111, \"#46039f\"], [0.2222222222222222, \"#7201a8\"], [0.3333333333333333, \"#9c179e\"], [0.4444444444444444, \"#bd3786\"], [0.5555555555555556, \"#d8576b\"], [0.6666666666666666, \"#ed7953\"], [0.7777777777777778, \"#fb9f3a\"], [0.8888888888888888, \"#fdca26\"], [1.0, \"#f0f921\"]], \"type\": \"histogram2dcontour\"}], \"mesh3d\": [{\"colorbar\": {\"outlinewidth\": 0, \"ticks\": \"\"}, \"type\": \"mesh3d\"}], \"parcoords\": [{\"line\": {\"colorbar\": {\"outlinewidth\": 0, \"ticks\": \"\"}}, \"type\": \"parcoords\"}], \"pie\": [{\"automargin\": true, \"type\": \"pie\"}], \"scatter\": [{\"marker\": {\"colorbar\": {\"outlinewidth\": 0, \"ticks\": \"\"}}, \"type\": \"scatter\"}], \"scatter3d\": [{\"line\": {\"colorbar\": {\"outlinewidth\": 0, \"ticks\": \"\"}}, \"marker\": {\"colorbar\": {\"outlinewidth\": 0, \"ticks\": \"\"}}, \"type\": \"scatter3d\"}], \"scattercarpet\": [{\"marker\": {\"colorbar\": {\"outlinewidth\": 0, \"ticks\": \"\"}}, \"type\": \"scattercarpet\"}], \"scattergeo\": [{\"marker\": {\"colorbar\": {\"outlinewidth\": 0, \"ticks\": \"\"}}, \"type\": \"scattergeo\"}], \"scattergl\": [{\"marker\": {\"colorbar\": {\"outlinewidth\": 0, \"ticks\": \"\"}}, \"type\": \"scattergl\"}], \"scattermapbox\": [{\"marker\": {\"colorbar\": {\"outlinewidth\": 0, \"ticks\": \"\"}}, \"type\": \"scattermapbox\"}], \"scatterpolar\": [{\"marker\": {\"colorbar\": {\"outlinewidth\": 0, \"ticks\": \"\"}}, \"type\": \"scatterpolar\"}], \"scatterpolargl\": [{\"marker\": {\"colorbar\": {\"outlinewidth\": 0, \"ticks\": \"\"}}, \"type\": \"scatterpolargl\"}], \"scatterternary\": [{\"marker\": {\"colorbar\": {\"outlinewidth\": 0, \"ticks\": \"\"}}, \"type\": \"scatterternary\"}], \"surface\": [{\"colorbar\": {\"outlinewidth\": 0, \"ticks\": \"\"}, \"colorscale\": [[0.0, \"#0d0887\"], [0.1111111111111111, \"#46039f\"], [0.2222222222222222, \"#7201a8\"], [0.3333333333333333, \"#9c179e\"], [0.4444444444444444, \"#bd3786\"], [0.5555555555555556, \"#d8576b\"], [0.6666666666666666, \"#ed7953\"], [0.7777777777777778, \"#fb9f3a\"], [0.8888888888888888, \"#fdca26\"], [1.0, \"#f0f921\"]], \"type\": \"surface\"}], \"table\": [{\"cells\": {\"fill\": {\"color\": \"#EBF0F8\"}, \"line\": {\"color\": \"white\"}}, \"header\": {\"fill\": {\"color\": \"#C8D4E3\"}, \"line\": {\"color\": \"white\"}}, \"type\": \"table\"}]}, \"layout\": {\"annotationdefaults\": {\"arrowcolor\": \"#2a3f5f\", \"arrowhead\": 0, \"arrowwidth\": 1}, \"autotypenumbers\": \"strict\", \"coloraxis\": {\"colorbar\": {\"outlinewidth\": 0, \"ticks\": \"\"}}, \"colorscale\": {\"diverging\": [[0, \"#8e0152\"], [0.1, \"#c51b7d\"], [0.2, \"#de77ae\"], [0.3, \"#f1b6da\"], [0.4, \"#fde0ef\"], [0.5, \"#f7f7f7\"], [0.6, \"#e6f5d0\"], [0.7, \"#b8e186\"], [0.8, \"#7fbc41\"], [0.9, \"#4d9221\"], [1, \"#276419\"]], \"sequential\": [[0.0, \"#0d0887\"], [0.1111111111111111, \"#46039f\"], [0.2222222222222222, \"#7201a8\"], [0.3333333333333333, \"#9c179e\"], [0.4444444444444444, \"#bd3786\"], [0.5555555555555556, \"#d8576b\"], [0.6666666666666666, \"#ed7953\"], [0.7777777777777778, \"#fb9f3a\"], [0.8888888888888888, \"#fdca26\"], [1.0, \"#f0f921\"]], \"sequentialminus\": [[0.0, \"#0d0887\"], [0.1111111111111111, \"#46039f\"], [0.2222222222222222, \"#7201a8\"], [0.3333333333333333, \"#9c179e\"], [0.4444444444444444, \"#bd3786\"], [0.5555555555555556, \"#d8576b\"], [0.6666666666666666, \"#ed7953\"], [0.7777777777777778, \"#fb9f3a\"], [0.8888888888888888, \"#fdca26\"], [1.0, \"#f0f921\"]]}, \"colorway\": [\"#636efa\", \"#EF553B\", \"#00cc96\", \"#ab63fa\", \"#FFA15A\", \"#19d3f3\", \"#FF6692\", \"#B6E880\", \"#FF97FF\", \"#FECB52\"], \"font\": {\"color\": \"#2a3f5f\"}, \"geo\": {\"bgcolor\": \"white\", \"lakecolor\": \"white\", \"landcolor\": \"#E5ECF6\", \"showlakes\": true, \"showland\": true, \"subunitcolor\": \"white\"}, \"hoverlabel\": {\"align\": \"left\"}, \"hovermode\": \"closest\", \"mapbox\": {\"style\": \"light\"}, \"paper_bgcolor\": \"white\", \"plot_bgcolor\": \"#E5ECF6\", \"polar\": {\"angularaxis\": {\"gridcolor\": \"white\", \"linecolor\": \"white\", \"ticks\": \"\"}, \"bgcolor\": \"#E5ECF6\", \"radialaxis\": {\"gridcolor\": \"white\", \"linecolor\": \"white\", \"ticks\": \"\"}}, \"scene\": {\"xaxis\": {\"backgroundcolor\": \"#E5ECF6\", \"gridcolor\": \"white\", \"gridwidth\": 2, \"linecolor\": \"white\", \"showbackground\": true, \"ticks\": \"\", \"zerolinecolor\": \"white\"}, \"yaxis\": {\"backgroundcolor\": \"#E5ECF6\", \"gridcolor\": \"white\", \"gridwidth\": 2, \"linecolor\": \"white\", \"showbackground\": true, \"ticks\": \"\", \"zerolinecolor\": \"white\"}, \"zaxis\": {\"backgroundcolor\": \"#E5ECF6\", \"gridcolor\": \"white\", \"gridwidth\": 2, \"linecolor\": \"white\", \"showbackground\": true, \"ticks\": \"\", \"zerolinecolor\": \"white\"}}, \"shapedefaults\": {\"line\": {\"color\": \"#2a3f5f\"}}, \"ternary\": {\"aaxis\": {\"gridcolor\": \"white\", \"linecolor\": \"white\", \"ticks\": \"\"}, \"baxis\": {\"gridcolor\": \"white\", \"linecolor\": \"white\", \"ticks\": \"\"}, \"bgcolor\": \"#E5ECF6\", \"caxis\": {\"gridcolor\": \"white\", \"linecolor\": \"white\", \"ticks\": \"\"}}, \"title\": {\"x\": 0.05}, \"xaxis\": {\"automargin\": true, \"gridcolor\": \"white\", \"linecolor\": \"white\", \"ticks\": \"\", \"title\": {\"standoff\": 15}, \"zerolinecolor\": \"white\", \"zerolinewidth\": 2}, \"yaxis\": {\"automargin\": true, \"gridcolor\": \"white\", \"linecolor\": \"white\", \"ticks\": \"\", \"title\": {\"standoff\": 15}, \"zerolinecolor\": \"white\", \"zerolinewidth\": 2}}}, \"title\": {\"text\": \"Number of messages sent/recieved per hour during all time\"}, \"xaxis\": {\"title\": {\"text\": \"Hour of a day (00-23)\"}}, \"yaxis\": {\"title\": {\"text\": \"Number of messages\"}}},                        {\"responsive\": true}                    ).then(function(){\n",
       "                            \n",
       "var gd = document.getElementById('7fad147a-e7cd-40f2-968a-4584e6cc8b07');\n",
       "var x = new MutationObserver(function (mutations, observer) {{\n",
       "        var display = window.getComputedStyle(gd).display;\n",
       "        if (!display || display === 'none') {{\n",
       "            console.log([gd, 'removed!']);\n",
       "            Plotly.purge(gd);\n",
       "            observer.disconnect();\n",
       "        }}\n",
       "}});\n",
       "\n",
       "// Listen for the removal of the full notebook cells\n",
       "var notebookContainer = gd.closest('#notebook-container');\n",
       "if (notebookContainer) {{\n",
       "    x.observe(notebookContainer, {childList: true});\n",
       "}}\n",
       "\n",
       "// Listen for the clearing of the current output cell\n",
       "var outputEl = gd.closest('.output');\n",
       "if (outputEl) {{\n",
       "    x.observe(outputEl, {childList: true});\n",
       "}}\n",
       "\n",
       "                        })                };                });            </script>        </div>"
      ]
     },
     "metadata": {},
     "output_type": "display_data"
    }
   ],
   "source": [
    "fig = go.Figure()\n",
    "\n",
    "fig.add_trace(go.Line(\n",
    "    name='received',\n",
    "    x=hour_df['Hour'],\n",
    "    y=hour_df['recieved']\n",
    "))\n",
    "\n",
    "fig.add_trace(go.Line(\n",
    "    name='sended',\n",
    "    x=hour_df['Hour'],\n",
    "    y=hour_df['sended']\n",
    "))\n",
    "fig.update_layout(\n",
    "    title=\"Number of messages sent/recieved per hour during all time\",\n",
    "    xaxis_title=\"Hour of a day (00-23)\",\n",
    "    yaxis_title=\"Number of messages\",\n",
    ")\n",
    "fig.show()"
   ]
  },
  {
   "attachments": {
    "%D0%A1%D0%BD%D0%B8%D0%BC%D0%BE%D0%BA%20%D1%8D%D0%BA%D1%80%D0%B0%D0%BD%D0%B0%20%28103%29-2.png": {
     "image/png": "[encoded data removed]"
    }
   },
   "cell_type": "markdown",
   "id": "717b7e15",
   "metadata": {},
   "source": [
    "![%D0%A1%D0%BD%D0%B8%D0%BC%D0%BE%D0%BA%20%D1%8D%D0%BA%D1%80%D0%B0%D0%BD%D0%B0%20%28103%29-2.png](attachment:%D0%A1%D0%BD%D0%B8%D0%BC%D0%BE%D0%BA%20%D1%8D%D0%BA%D1%80%D0%B0%D0%BD%D0%B0%20%28103%29-2.png)"
   ]
  },
  {
   "cell_type": "markdown",
   "id": "e843694f",
   "metadata": {},
   "source": [
    "#### As we can see the most busy hour is 8 am because usually workday starts hear.\n",
    "#### Most messages are sent/recieved from 8 am to 21 pm.\n",
    "#### Free hours are from 00 to 6 am."
   ]
  },
  {
   "cell_type": "markdown",
   "id": "8af125f5",
   "metadata": {},
   "source": [
    "#### ----------------------------------------------------------------------------------------------------------------------------------------------------------------------------------------\n",
    "### ☞ How many messages I sent and received per day during all time? \n",
    "### ☞ Which days of the week are the most busy (according to number of messages) and which ones are mostly free from communicating?\n",
    "### ☞ Are weekdays more busy than weekends? (according to the number of messages)\n",
    "#### `Hypothesis: weekdays (from Monday to Friday) are most busy, especially Monday (as the first day of week after weekends). The most free day from messages is Sunday because this day people usually tend to have a break and relax.`"
   ]
  },
  {
   "cell_type": "code",
   "execution_count": 11,
   "id": "d6df899e",
   "metadata": {},
   "outputs": [
    {
     "data": {
      "text/html": [
       "<div>\n",
       "<style scoped>\n",
       "    .dataframe tbody tr th:only-of-type {\n",
       "        vertical-align: middle;\n",
       "    }\n",
       "\n",
       "    .dataframe tbody tr th {\n",
       "        vertical-align: top;\n",
       "    }\n",
       "\n",
       "    .dataframe thead th {\n",
       "        text-align: right;\n",
       "    }\n",
       "</style>\n",
       "<table border=\"1\" class=\"dataframe\">\n",
       "  <thead>\n",
       "    <tr style=\"text-align: right;\">\n",
       "      <th></th>\n",
       "      <th>Number_of_Messages</th>\n",
       "      <th>Day_id</th>\n",
       "    </tr>\n",
       "    <tr>\n",
       "      <th>Weekday</th>\n",
       "      <th></th>\n",
       "      <th></th>\n",
       "    </tr>\n",
       "  </thead>\n",
       "  <tbody>\n",
       "    <tr>\n",
       "      <th>Sunday</th>\n",
       "      <td>64683</td>\n",
       "      <td>0</td>\n",
       "    </tr>\n",
       "    <tr>\n",
       "      <th>Monday</th>\n",
       "      <td>87859</td>\n",
       "      <td>1</td>\n",
       "    </tr>\n",
       "    <tr>\n",
       "      <th>Tuesday</th>\n",
       "      <td>85791</td>\n",
       "      <td>2</td>\n",
       "    </tr>\n",
       "    <tr>\n",
       "      <th>Wednesday</th>\n",
       "      <td>84590</td>\n",
       "      <td>3</td>\n",
       "    </tr>\n",
       "    <tr>\n",
       "      <th>Thursday</th>\n",
       "      <td>98641</td>\n",
       "      <td>4</td>\n",
       "    </tr>\n",
       "    <tr>\n",
       "      <th>Friday</th>\n",
       "      <td>94270</td>\n",
       "      <td>5</td>\n",
       "    </tr>\n",
       "    <tr>\n",
       "      <th>Saturday</th>\n",
       "      <td>54267</td>\n",
       "      <td>6</td>\n",
       "    </tr>\n",
       "  </tbody>\n",
       "</table>\n",
       "</div>"
      ],
      "text/plain": [
       "           Number_of_Messages  Day_id\n",
       "Weekday                              \n",
       "Sunday                  64683       0\n",
       "Monday                  87859       1\n",
       "Tuesday                 85791       2\n",
       "Wednesday               84590       3\n",
       "Thursday                98641       4\n",
       "Friday                  94270       5\n",
       "Saturday                54267       6"
      ]
     },
     "execution_count": 11,
     "metadata": {},
     "output_type": "execute_result"
    }
   ],
   "source": [
    "from datetime import date\n",
    "import calendar\n",
    "from pandas.api.types import CategoricalDtype\n",
    "\n",
    "cats = [ 'Monday', 'Tuesday', 'Wednesday', 'Thursday', 'Friday', 'Saturday', 'Sunday']\n",
    "day_data = df_new.copy()\n",
    "\n",
    "day_data['date'] = pd.to_datetime(day_data['date'])\n",
    "day_data['day_of_week'] = day_data['date'].dt.day_name()\n",
    "day_data = day_data.groupby(['day_of_week']).size().reset_index(name='count')\n",
    "day_data.rename(columns = {'day_of_week':'Weekday', 'count' : 'Number_of_Messages'}, inplace = True)\n",
    "day_data = day_data.groupby(['Weekday']).sum().reindex(cats)\n",
    "\n",
    "sorter = ['Sunday', 'Monday', 'Tuesday', 'Wednesday', 'Thursday', 'Friday', 'Saturday']\n",
    "sorterIndex = dict(zip(sorter,range(len(sorter))))\n",
    "\n",
    "day_data['Day_id'] = day_data.index\n",
    "day_data['Day_id'] = day_data['Day_id'].map(sorterIndex)\n",
    "day_data.sort_values('Day_id', inplace=True)\n",
    "day_data"
   ]
  },
  {
   "cell_type": "code",
   "execution_count": 12,
   "id": "bfba1b2d",
   "metadata": {},
   "outputs": [
    {
     "data": {
      "image/png": "[encoded data removed]",
      "text/plain": [
       "<Figure size 720x432 with 1 Axes>"
      ]
     },
     "metadata": {},
     "output_type": "display_data"
    }
   ],
   "source": [
    "plt.style.use('fivethirtyeight')\n",
    "fig, ax = plt.subplots(figsize=(10,6), facecolor='white')\n",
    " \n",
    "ax.bar(day_data.Day_id, day_data.Number_of_Messages, color='orange')\n",
    "ax.set_xticks([x+0.01 for x in day_data.Day_id])\n",
    "ax.set_xticklabels(day_data.index)\n",
    "plt.xlabel(\"Name of the week\")\n",
    "plt.ylabel(\"Number of messages\")\n",
    "plt.title('Number of messages sent/recieved per day during all time')\n",
    "ax.set_facecolor('white')"
   ]
  },
  {
   "cell_type": "markdown",
   "id": "bb70ee84",
   "metadata": {},
   "source": [
    "#### The most busy are weekdays (because of the studying/work messages)\n",
    "#### The most busy days (according to number of messages) are Thursday and Friday (I guess, it's because of the end of working week, so people tend to solve all their problems till weekdays)\n",
    "#### The most free day from communicating is Saturday (maybe because it's the first day of weekend and there are a lot of deadlines till Monday, thus Sunday is more busy for communicating)"
   ]
  },
  {
   "cell_type": "markdown",
   "id": "0ede657a",
   "metadata": {},
   "source": [
    "#### ----------------------------------------------------------------------------------------------------------------------------------------------------------------------------------------\n",
    "## ✔\n",
    "### ☞ What is the ratio of messages types?\n",
    "### ☞ Which type of messages is most common? \n",
    "### ☞ Which one is used the least?\n",
    "#### `Hypothesis: text messages predominate the most. Because it's the best way to give information (and some people tend to write 1 word or symbol per message). Video type is used the less due to the inconvenience of viewing.`"
   ]
  },
  {
   "cell_type": "code",
   "execution_count": 13,
   "id": "2d1b40f6",
   "metadata": {},
   "outputs": [
    {
     "data": {
      "image/png": "[encoded data removed]",
      "text/plain": [
       "<Figure size 720x432 with 1 Axes>"
      ]
     },
     "metadata": {},
     "output_type": "display_data"
    }
   ],
   "source": [
    "fig, ax = plt.subplots(figsize=(10,6), facecolor='white')\n",
    "colors = ['#99ff99','#66b3ff','#ffff99','#ffcc99', '#ff9999']\n",
    "ax = df_new.groupby([\"type\"])[\"type\"].count().plot.pie(autopct='%0.1f', colors = colors)\n",
    "plt.title('% of messages of each type during all time')\n",
    "ax.set_facecolor('white')\n",
    "ax.axes.get_yaxis().set_visible(False)\n",
    "#autopct='%0.1f'"
   ]
  },
  {
   "cell_type": "markdown",
   "id": "71c77bd2",
   "metadata": {},
   "source": [
    "#### The most popular type of messages is text.\n",
    "#### However, the least used one is voice. Maybe, it's because people like more to listen and see the picture not only the voice."
   ]
  },
  {
   "cell_type": "markdown",
   "id": "71def0e3",
   "metadata": {},
   "source": [
    "#### ----------------------------------------------------------------------------------------------------------------------------------------------------------------------------------------\n",
    "## ✔\n",
    "### ☞ How many messages I sent per hour during all time? \n",
    "### ☞ When I'm most active and when I tend to have a break?\n",
    "### ☞ What is my timetable like?\n",
    "#### `Hypothesis: the most busy hours are work hours (from 8 am to 5 am), evening hours (because of chatting and burning deadlines); night hours (2 am - 5 am) are mostly free because usually I don't chat much during this time`"
   ]
  },
  {
   "cell_type": "code",
   "execution_count": 14,
   "id": "3c7245a8",
   "metadata": {},
   "outputs": [
    {
     "data": {
      "text/html": [
       "<div>\n",
       "<style scoped>\n",
       "    .dataframe tbody tr th:only-of-type {\n",
       "        vertical-align: middle;\n",
       "    }\n",
       "\n",
       "    .dataframe tbody tr th {\n",
       "        vertical-align: top;\n",
       "    }\n",
       "\n",
       "    .dataframe thead th {\n",
       "        text-align: right;\n",
       "    }\n",
       "</style>\n",
       "<table border=\"1\" class=\"dataframe\">\n",
       "  <thead>\n",
       "    <tr style=\"text-align: right;\">\n",
       "      <th></th>\n",
       "      <th>Hour</th>\n",
       "      <th>Number_of_Messages</th>\n",
       "    </tr>\n",
       "  </thead>\n",
       "  <tbody>\n",
       "    <tr>\n",
       "      <th>0</th>\n",
       "      <td>00</td>\n",
       "      <td>672</td>\n",
       "    </tr>\n",
       "    <tr>\n",
       "      <th>1</th>\n",
       "      <td>01</td>\n",
       "      <td>85</td>\n",
       "    </tr>\n",
       "    <tr>\n",
       "      <th>2</th>\n",
       "      <td>02</td>\n",
       "      <td>14</td>\n",
       "    </tr>\n",
       "    <tr>\n",
       "      <th>3</th>\n",
       "      <td>03</td>\n",
       "      <td>55</td>\n",
       "    </tr>\n",
       "    <tr>\n",
       "      <th>4</th>\n",
       "      <td>04</td>\n",
       "      <td>41</td>\n",
       "    </tr>\n",
       "    <tr>\n",
       "      <th>5</th>\n",
       "      <td>05</td>\n",
       "      <td>609</td>\n",
       "    </tr>\n",
       "    <tr>\n",
       "      <th>6</th>\n",
       "      <td>06</td>\n",
       "      <td>1264</td>\n",
       "    </tr>\n",
       "    <tr>\n",
       "      <th>7</th>\n",
       "      <td>07</td>\n",
       "      <td>2865</td>\n",
       "    </tr>\n",
       "    <tr>\n",
       "      <th>8</th>\n",
       "      <td>08</td>\n",
       "      <td>4678</td>\n",
       "    </tr>\n",
       "    <tr>\n",
       "      <th>9</th>\n",
       "      <td>09</td>\n",
       "      <td>3906</td>\n",
       "    </tr>\n",
       "    <tr>\n",
       "      <th>10</th>\n",
       "      <td>10</td>\n",
       "      <td>4320</td>\n",
       "    </tr>\n",
       "    <tr>\n",
       "      <th>11</th>\n",
       "      <td>11</td>\n",
       "      <td>3451</td>\n",
       "    </tr>\n",
       "    <tr>\n",
       "      <th>12</th>\n",
       "      <td>12</td>\n",
       "      <td>2219</td>\n",
       "    </tr>\n",
       "    <tr>\n",
       "      <th>13</th>\n",
       "      <td>13</td>\n",
       "      <td>2536</td>\n",
       "    </tr>\n",
       "    <tr>\n",
       "      <th>14</th>\n",
       "      <td>14</td>\n",
       "      <td>2335</td>\n",
       "    </tr>\n",
       "    <tr>\n",
       "      <th>15</th>\n",
       "      <td>15</td>\n",
       "      <td>2115</td>\n",
       "    </tr>\n",
       "    <tr>\n",
       "      <th>16</th>\n",
       "      <td>16</td>\n",
       "      <td>2239</td>\n",
       "    </tr>\n",
       "    <tr>\n",
       "      <th>17</th>\n",
       "      <td>17</td>\n",
       "      <td>2719</td>\n",
       "    </tr>\n",
       "    <tr>\n",
       "      <th>18</th>\n",
       "      <td>18</td>\n",
       "      <td>2594</td>\n",
       "    </tr>\n",
       "    <tr>\n",
       "      <th>19</th>\n",
       "      <td>19</td>\n",
       "      <td>4038</td>\n",
       "    </tr>\n",
       "    <tr>\n",
       "      <th>20</th>\n",
       "      <td>20</td>\n",
       "      <td>5365</td>\n",
       "    </tr>\n",
       "    <tr>\n",
       "      <th>21</th>\n",
       "      <td>21</td>\n",
       "      <td>5672</td>\n",
       "    </tr>\n",
       "    <tr>\n",
       "      <th>22</th>\n",
       "      <td>22</td>\n",
       "      <td>3787</td>\n",
       "    </tr>\n",
       "    <tr>\n",
       "      <th>23</th>\n",
       "      <td>23</td>\n",
       "      <td>1839</td>\n",
       "    </tr>\n",
       "  </tbody>\n",
       "</table>\n",
       "</div>"
      ],
      "text/plain": [
       "   Hour  Number_of_Messages\n",
       "0    00                 672\n",
       "1    01                  85\n",
       "2    02                  14\n",
       "3    03                  55\n",
       "4    04                  41\n",
       "5    05                 609\n",
       "6    06                1264\n",
       "7    07                2865\n",
       "8    08                4678\n",
       "9    09                3906\n",
       "10   10                4320\n",
       "11   11                3451\n",
       "12   12                2219\n",
       "13   13                2536\n",
       "14   14                2335\n",
       "15   15                2115\n",
       "16   16                2239\n",
       "17   17                2719\n",
       "18   18                2594\n",
       "19   19                4038\n",
       "20   20                5365\n",
       "21   21                5672\n",
       "22   22                3787\n",
       "23   23                1839"
      ]
     },
     "execution_count": 14,
     "metadata": {},
     "output_type": "execute_result"
    }
   ],
   "source": [
    "my_messages = df_new[(df_new[\"from_id\"] == \"PeerUser(user_id=559072245)\") | (df_new['to_id'] == 559072245)]\n",
    "my_messages['sended'] = np.where(my_messages['from_id'] == \"PeerUser(user_id=559072245)\", 1, 0)\n",
    "stat = my_messages.groupby('date', as_index=False)[['sended']].sum()\n",
    "\n",
    "\n",
    "time_data = stat.copy()\n",
    "time_data['date'] = pd.to_datetime(time_data['date']) \n",
    "time_data['date'] = time_data['date'].dt.strftime('%H')\n",
    "time_data = time_data.groupby(['date']).size().reset_index(name='count')\n",
    "time_data.rename(columns = {'date':'Hour', 'count':'Number_of_Messages'}, inplace = True)\n",
    "time_data"
   ]
  },
  {
   "cell_type": "code",
   "execution_count": 15,
   "id": "8b192acb",
   "metadata": {},
   "outputs": [
    {
     "data": {
      "image/png": "[encoded data removed]",
      "text/plain": [
       "<Figure size 720x432 with 1 Axes>"
      ]
     },
     "metadata": {},
     "output_type": "display_data"
    }
   ],
   "source": [
    "fig, ax = plt.subplots(figsize=(10,6), facecolor='white')\n",
    " \n",
    "ax.bar(time_data.Hour, time_data.Number_of_Messages)\n",
    "ax.set_xticklabels(time_data.Hour)\n",
    "plt.xlabel(\"Hour of a day (00-23)\")\n",
    "plt.ylabel(\"Number of messages\")\n",
    "plt.title('Number of messages sent by me per hour during all time')\n",
    "ax.set_facecolor('white')"
   ]
  },
  {
   "cell_type": "markdown",
   "id": "aa9b9434",
   "metadata": {},
   "source": [
    "#### So, I'm most active in evening hours when I just chat or discuss the deadlines with other people. \n",
    "#### (Schedule according to the visual data) Usually I'm sleeping from 00 to 5-6 am. My day starts around 7 am. My study day starts at 8 am and is most productive till 11 am. Than I have less communicating till evening which is most busy time during the day. This time I'm usually at home, chatting and collaborating with other people. After 21 pm number of messages is declining (till 1 am). \n",
    "#### So, this schedule is pretty simular to the one I have in real life."
   ]
  },
  {
   "cell_type": "markdown",
   "id": "16c449b5",
   "metadata": {},
   "source": [
    "#### ----------------------------------------------------------------------------------------------------------------------------------------------------------------------------------------\n",
    "### ✔ Working with the semantics of words"
   ]
  },
  {
   "cell_type": "code",
   "execution_count": 16,
   "id": "9cea71b3",
   "metadata": {},
   "outputs": [],
   "source": [
    "PATH = \"C:/Users/Kate/tgProject/telegram-dialogs-analysis-v2-main/tone-ua.csv\"\n",
    "dicto= pd.read_csv(PATH ,encoding='windows-1251')"
   ]
  },
  {
   "cell_type": "code",
   "execution_count": 18,
   "id": "fc176928",
   "metadata": {},
   "outputs": [],
   "source": [
    "tonality_dict = dicto.set_index('term').T.to_dict('list')"
   ]
  },
  {
   "cell_type": "code",
   "execution_count": 30,
   "id": "e6e220e6",
   "metadata": {},
   "outputs": [
    {
     "name": "stderr",
     "output_type": "stream",
     "text": [
      "[nltk_data] Downloading package stopwords to\n",
      "[nltk_data]     C:\\Users\\Kate\\AppData\\Roaming\\nltk_data...\n",
      "[nltk_data]   Package stopwords is already up-to-date!\n"
     ]
    }
   ],
   "source": [
    "import simplemma\n",
    "import nltk\n",
    "from nltk.tokenize import word_tokenize\n",
    "nltk.download('stopwords')\n",
    "from nltk.corpus import stopwords\n",
    "from string import punctuation"
   ]
  },
  {
   "cell_type": "code",
   "execution_count": 32,
   "id": "1318305c",
   "metadata": {},
   "outputs": [],
   "source": [
    "langdata = simplemma.load_data('uk')\n",
    "\n",
    "def preprocess_text(text):\n",
    "    #token = [word_tokenize(i.lower()) for i in text]\n",
    "    tokens = word_tokenize(text.lower()) \n",
    "    tokens = [token for token in tokens if \n",
    "               token != \" \" \\\n",
    "              and token.strip() not in punctuation]\n",
    "    return [simplemma.lemmatize(t, langdata) for t in tokens]"
   ]
  },
  {
   "cell_type": "code",
   "execution_count": 33,
   "id": "3c23fdbf",
   "metadata": {},
   "outputs": [],
   "source": [
    "preprocess_tag = [preprocess_text(str(i)) for i in data['message']]\n",
    "data[\"preprocess_text\"] = preprocess_tag"
   ]
  },
  {
   "cell_type": "code",
   "execution_count": 34,
   "id": "769c7ec6",
   "metadata": {},
   "outputs": [],
   "source": [
    "data['total_len'] = data[\"preprocess_text\"].map(lambda x: len(x))"
   ]
  },
  {
   "cell_type": "code",
   "execution_count": 38,
   "id": "d6bf0bc6",
   "metadata": {},
   "outputs": [],
   "source": [
    "from utils.date import get_day_and_hour, get_week_day_from_number"
   ]
  },
  {
   "cell_type": "code",
   "execution_count": 39,
   "id": "fb96f8ab",
   "metadata": {},
   "outputs": [],
   "source": [
    "def calculate_msg_sentiment(msg):\n",
    "    \"\"\"\n",
    "    Calculate dictionary-base sentiment of a particular message.\n",
    "    Return average sentiment of a message.\n",
    "        \n",
    "    \"\"\"\n",
    "\n",
    "   # tokenized_msg = msg.split()\n",
    "   # print(tokenized_msg)\n",
    "    #print('hello')\n",
    "    overall_sentiment = 0\n",
    "    words_num = 0\n",
    "    for line in msg:\n",
    "        tokenized_msg = line.split(\",\")\n",
    "\n",
    "        token_sentiment = tonality_dict.get(line, 0)\n",
    "        if token_sentiment!= 0:\n",
    "            overall_sentiment += token_sentiment[2]\n",
    "            words_num += 1\n",
    "    if words_num == 0:\n",
    "        return 0\n",
    "    avg_sentiment = overall_sentiment / words_num\n",
    "\n",
    "    return avg_sentiment\n",
    "\n",
    "\n",
    "def add_dialog_sentiment(data):\n",
    "    \"\"\"\n",
    "    Add sentiment for each message in a dialog,\n",
    "    and add it in a new column for a particular message,\n",
    "    return new dataframe\n",
    "\n",
    "    Supported languages: eng, ru, ua\n",
    "    \"\"\"\n",
    "    data['sentiment'] = data.apply(lambda x: calculate_msg_sentiment(x['preprocess_text']),axis=1)\n",
    "\n",
    "    return data\n",
    "\n",
    "def calculate_avg_subdialog_sentiment(data):\n",
    "    \"\"\"\n",
    "    Calculate average sentiment for each subdialog in a dataframe,\n",
    "    save results in a new column and return an updated dataframe.\n",
    "    \"\"\"\n",
    "    grouped_data = sentiment_data_for_each_msg.groupby(\n",
    "        [sentiment_data_for_each_msg['from_id'].fillna('-'),\n",
    "         sentiment_data_for_each_msg['id']])\n",
    "    data['avg_subdialog_sentiment'] = grouped_data['sentiment'].transform(lambda x: round(x.mean(), 3))\n",
    "\n",
    "    return data\n",
    "\n",
    "\n",
    "def add_hour_and_dayoweek(data):\n",
    "    \"\"\"\n",
    "    Add hour and day of the week column to a dataframe\n",
    "\n",
    "    Return updated dataframe\n",
    "    \"\"\"\n",
    "    data[['hour_of_day', 'day_of_week']] = data.apply(lambda x: get_day_and_hour(x['date']),\n",
    "                                                      axis=1,\n",
    "                                                      result_type=\"expand\")\n",
    "\n",
    "    return data\n",
    "\n",
    "def analyze_sentiment_for_hour_and_dayoweek(data_with_hour_and_week):\n",
    "    \"\"\"\n",
    "    Calculate sentiment by day of the week and hour\n",
    "    for each user.\n",
    "\n",
    "    Sentiment for a particular message is the average sentiment\n",
    "    for a message in a particular dialog and subdialog\n",
    "\n",
    "    Return a dataframe ready for visualization\n",
    "    \"\"\"\n",
    "    grouped_by_date = data_with_hour_and_week.groupby(['from_id', 'day_of_week', 'hour_of_day'])\n",
    "    finalized_data = round(grouped_by_date['avg_subdialog_sentiment'].mean(), 3).reset_index()\n",
    "    return finalized_data"
   ]
  },
  {
   "cell_type": "code",
   "execution_count": 40,
   "id": "2d0c0408",
   "metadata": {},
   "outputs": [],
   "source": [
    "# This adds 'sentiment' column to a df\n",
    "sentiment_data_for_each_msg = add_dialog_sentiment(data)\n",
    "\n",
    "# This adds 'avg_subdialog_sentiment' column to a df\n",
    "avg_sentiment_data = calculate_avg_subdialog_sentiment(sentiment_data_for_each_msg)"
   ]
  },
  {
   "cell_type": "code",
   "execution_count": 41,
   "id": "dc50f851",
   "metadata": {},
   "outputs": [],
   "source": [
    "# This adds 'hour_of_day' and 'day_of_week' columns to a df\n",
    "data_with_hour_and_week = add_hour_and_dayoweek(avg_sentiment_data)\n",
    "\n",
    "# This combines data for a specific day of a week and hour, ready to be visualized\n",
    "final_sentiment_data = analyze_sentiment_for_hour_and_dayoweek(data_with_hour_and_week)"
   ]
  },
  {
   "cell_type": "code",
   "execution_count": 59,
   "id": "4323d889",
   "metadata": {},
   "outputs": [],
   "source": [
    "USER_ID = 559072245"
   ]
  },
  {
   "cell_type": "markdown",
   "id": "acf35b1e",
   "metadata": {},
   "source": [
    "## ✔ \n",
    "### ☞ What is the sentiment of messages per hour dusing the week? (of specific user)\n",
    "### ☞ Does this user use more positive/neutral or negative words in their messages?\n",
    "### ☞ What is the overall mood of the specific user?"
   ]
  },
  {
   "cell_type": "code",
   "execution_count": 75,
   "id": "fc9bad7d",
   "metadata": {},
   "outputs": [
    {
     "data": {
      "text/html": [
       "<div>\n",
       "<style scoped>\n",
       "    .dataframe tbody tr th:only-of-type {\n",
       "        vertical-align: middle;\n",
       "    }\n",
       "\n",
       "    .dataframe tbody tr th {\n",
       "        vertical-align: top;\n",
       "    }\n",
       "\n",
       "    .dataframe thead th {\n",
       "        text-align: right;\n",
       "    }\n",
       "</style>\n",
       "<table border=\"1\" class=\"dataframe\">\n",
       "  <thead>\n",
       "    <tr style=\"text-align: right;\">\n",
       "      <th></th>\n",
       "      <th>from_id</th>\n",
       "      <th>day_of_week</th>\n",
       "      <th>hour_of_day</th>\n",
       "      <th>avg_subdialog_sentiment</th>\n",
       "    </tr>\n",
       "  </thead>\n",
       "  <tbody>\n",
       "    <tr>\n",
       "      <th>0</th>\n",
       "      <td>PeerChannel(channel_id=1248279813)</td>\n",
       "      <td>1</td>\n",
       "      <td>7</td>\n",
       "      <td>0.227</td>\n",
       "    </tr>\n",
       "    <tr>\n",
       "      <th>1</th>\n",
       "      <td>PeerChannel(channel_id=1248279813)</td>\n",
       "      <td>1</td>\n",
       "      <td>9</td>\n",
       "      <td>0.203</td>\n",
       "    </tr>\n",
       "    <tr>\n",
       "      <th>2</th>\n",
       "      <td>PeerChannel(channel_id=1248279813)</td>\n",
       "      <td>1</td>\n",
       "      <td>11</td>\n",
       "      <td>0.168</td>\n",
       "    </tr>\n",
       "    <tr>\n",
       "      <th>3</th>\n",
       "      <td>PeerChannel(channel_id=1248279813)</td>\n",
       "      <td>1</td>\n",
       "      <td>14</td>\n",
       "      <td>0.372</td>\n",
       "    </tr>\n",
       "    <tr>\n",
       "      <th>4</th>\n",
       "      <td>PeerChannel(channel_id=1248279813)</td>\n",
       "      <td>1</td>\n",
       "      <td>18</td>\n",
       "      <td>0.000</td>\n",
       "    </tr>\n",
       "  </tbody>\n",
       "</table>\n",
       "</div>"
      ],
      "text/plain": [
       "                              from_id  day_of_week  hour_of_day  \\\n",
       "0  PeerChannel(channel_id=1248279813)            1            7   \n",
       "1  PeerChannel(channel_id=1248279813)            1            9   \n",
       "2  PeerChannel(channel_id=1248279813)            1           11   \n",
       "3  PeerChannel(channel_id=1248279813)            1           14   \n",
       "4  PeerChannel(channel_id=1248279813)            1           18   \n",
       "\n",
       "   avg_subdialog_sentiment  \n",
       "0                    0.227  \n",
       "1                    0.203  \n",
       "2                    0.168  \n",
       "3                    0.372  \n",
       "4                    0.000  "
      ]
     },
     "execution_count": 75,
     "metadata": {},
     "output_type": "execute_result"
    }
   ],
   "source": [
    "final_sentiment_data.head()"
   ]
  },
  {
   "cell_type": "code",
   "execution_count": 72,
   "id": "f287ba0c",
   "metadata": {},
   "outputs": [
    {
     "data": {
      "application/vnd.plotly.v1+json": {
       "config": {
        "plotlyServerURL": "https://plot.ly"
       },
       "data": [
        {
         "name": "Monday",
         "type": "scatter",
         "x": [
          0,
          1,
          2,
          3,
          4,
          5,
          6,
          7,
          8,
          9,
          10,
          11,
          12,
          13,
          14,
          15,
          16,
          17,
          18,
          19,
          20,
          21,
          22,
          23
         ],
         "xaxis": "x",
         "y": [
          0,
          0,
          0,
          0,
          0,
          0,
          0,
          0.227,
          0,
          0.203,
          0,
          0.168,
          0,
          0,
          0.372,
          0,
          0,
          0,
          0,
          0.236,
          0,
          0,
          0,
          0
         ],
         "yaxis": "y"
        },
        {
         "name": "Tuesday",
         "type": "scatter",
         "x": [
          0,
          1,
          2,
          3,
          4,
          5,
          6,
          7,
          8,
          9,
          10,
          11,
          12,
          13,
          14,
          15,
          16,
          17,
          18,
          19,
          20,
          21,
          22,
          23
         ],
         "xaxis": "x2",
         "y": [
          0,
          0,
          0,
          0,
          0,
          0,
          0,
          0.095,
          0,
          0.315,
          0,
          0,
          0.295,
          0,
          0.323,
          0,
          0.141,
          0,
          0.294,
          0.279,
          0,
          0,
          0,
          0
         ],
         "yaxis": "y2"
        },
        {
         "name": "Wednesday",
         "type": "scatter",
         "x": [
          0,
          1,
          2,
          3,
          4,
          5,
          6,
          7,
          8,
          9,
          10,
          11,
          12,
          13,
          14,
          15,
          16,
          17,
          18,
          19,
          20,
          21,
          22,
          23
         ],
         "xaxis": "x3",
         "y": [
          0,
          0,
          0,
          0,
          0,
          0,
          0,
          0,
          0,
          0.036,
          0.125,
          0.06,
          0.389,
          0.154,
          0,
          0.136,
          0,
          0,
          0.183,
          0,
          0.062,
          0,
          0,
          0
         ],
         "yaxis": "y3"
        },
        {
         "name": "Thursday",
         "type": "scatter",
         "x": [
          0,
          1,
          2,
          3,
          4,
          5,
          6,
          7,
          8,
          9,
          10,
          11,
          12,
          13,
          14,
          15,
          16,
          17,
          18,
          19,
          20,
          21,
          22,
          23
         ],
         "xaxis": "x4",
         "y": [
          0,
          0,
          0,
          0,
          0,
          0,
          0,
          0,
          0,
          0.127,
          0,
          0.271,
          0,
          0,
          0.276,
          0,
          -0.004,
          0,
          0,
          0,
          0,
          0,
          0,
          0
         ],
         "yaxis": "y4"
        },
        {
         "name": "Friday",
         "type": "scatter",
         "x": [
          0,
          1,
          2,
          3,
          4,
          5,
          6,
          7,
          8,
          9,
          10,
          11,
          12,
          13,
          14,
          15,
          16,
          17,
          18,
          19,
          20,
          21,
          22,
          23
         ],
         "xaxis": "x5",
         "y": [
          0,
          0,
          0,
          0,
          0,
          0,
          0,
          0,
          0.392,
          0.102,
          0,
          0,
          0.198,
          0.218,
          0,
          0.043,
          0.319,
          0,
          0.348,
          0,
          0,
          0,
          0,
          0
         ],
         "yaxis": "y5"
        },
        {
         "name": "Saturday",
         "type": "scatter",
         "x": [
          0,
          1,
          2,
          3,
          4,
          5,
          6,
          7,
          8,
          9,
          10,
          11,
          12,
          13,
          14,
          15,
          16,
          17,
          18,
          19,
          20,
          21,
          22,
          23
         ],
         "xaxis": "x6",
         "y": [
          0,
          0,
          0,
          0,
          0,
          0,
          0,
          0,
          0,
          0.212,
          0,
          0,
          0.448,
          0,
          0.314,
          0,
          0,
          0,
          0.166,
          0.21,
          0,
          0,
          0,
          0
         ],
         "yaxis": "y6"
        },
        {
         "name": "Sunday",
         "type": "scatter",
         "x": [
          0,
          1,
          2,
          3,
          4,
          5,
          6,
          7,
          8,
          9,
          10,
          11,
          12,
          13,
          14,
          15,
          16,
          17,
          18,
          19,
          20,
          21,
          22,
          23
         ],
         "xaxis": "x7",
         "y": [
          0,
          0,
          0,
          0,
          0,
          0,
          0,
          0,
          0,
          0,
          0,
          0,
          0,
          0,
          0,
          0,
          0.121,
          0.284,
          0,
          0.287,
          0.213,
          0,
          0,
          0
         ],
         "yaxis": "y7"
        }
       ],
       "layout": {
        "annotations": [
         {
          "font": {
           "size": 16
          },
          "showarrow": false,
          "text": "Monday",
          "x": 0.055,
          "xanchor": "center",
          "xref": "paper",
          "y": 0.965,
          "yanchor": "bottom",
          "yref": "paper"
         },
         {
          "font": {
           "size": 16
          },
          "showarrow": false,
          "text": "Tuesday",
          "x": 0.055,
          "xanchor": "center",
          "xref": "paper",
          "y": 0.81,
          "yanchor": "bottom",
          "yref": "paper"
         },
         {
          "font": {
           "size": 16
          },
          "showarrow": false,
          "text": "Wednesday",
          "x": 0.068,
          "xanchor": "center",
          "xref": "paper",
          "y": 0.66,
          "yanchor": "bottom",
          "yref": "paper"
         },
         {
          "font": {
           "size": 16
          },
          "showarrow": false,
          "text": "Thursday",
          "x": 0.055,
          "xanchor": "center",
          "xref": "paper",
          "y": 0.51,
          "yanchor": "bottom",
          "yref": "paper"
         },
         {
          "font": {
           "size": 16
          },
          "showarrow": false,
          "text": "Friday",
          "x": 0.045,
          "xanchor": "center",
          "xref": "paper",
          "y": 0.355,
          "yanchor": "bottom",
          "yref": "paper"
         },
         {
          "font": {
           "size": 16
          },
          "showarrow": false,
          "text": "Saturday",
          "x": 0.055,
          "xanchor": "center",
          "xref": "paper",
          "y": 0.2,
          "yanchor": "bottom",
          "yref": "paper"
         },
         {
          "font": {
           "size": 16
          },
          "showarrow": false,
          "text": "Sunday",
          "x": 0.045,
          "xanchor": "center",
          "xref": "paper",
          "y": 0.05,
          "yanchor": "bottom",
          "yref": "paper"
         },
         {
          "font": {
           "size": 16
          },
          "showarrow": false,
          "text": "Hours",
          "x": 0.5,
          "xanchor": "center",
          "xref": "paper",
          "y": 0,
          "yanchor": "top",
          "yref": "paper",
          "yshift": -30
         },
         {
          "font": {
           "size": 16
          },
          "showarrow": false,
          "text": "Sentiment",
          "textangle": -90,
          "x": 0,
          "xanchor": "right",
          "xref": "paper",
          "xshift": -40,
          "y": 0.5,
          "yanchor": "middle",
          "yref": "paper"
         }
        ],
        "height": 1050,
        "showlegend": false,
        "template": {
         "data": {
          "bar": [
           {
            "error_x": {
             "color": "#2a3f5f"
            },
            "error_y": {
             "color": "#2a3f5f"
            },
            "marker": {
             "line": {
              "color": "#E5ECF6",
              "width": 0.5
             }
            },
            "type": "bar"
           }
          ],
          "barpolar": [
           {
            "marker": {
             "line": {
              "color": "#E5ECF6",
              "width": 0.5
             }
            },
            "type": "barpolar"
           }
          ],
          "carpet": [
           {
            "aaxis": {
             "endlinecolor": "#2a3f5f",
             "gridcolor": "white",
             "linecolor": "white",
             "minorgridcolor": "white",
             "startlinecolor": "#2a3f5f"
            },
            "baxis": {
             "endlinecolor": "#2a3f5f",
             "gridcolor": "white",
             "linecolor": "white",
             "minorgridcolor": "white",
             "startlinecolor": "#2a3f5f"
            },
            "type": "carpet"
           }
          ],
          "choropleth": [
           {
            "colorbar": {
             "outlinewidth": 0,
             "ticks": ""
            },
            "type": "choropleth"
           }
          ],
          "contour": [
           {
            "colorbar": {
             "outlinewidth": 0,
             "ticks": ""
            },
            "colorscale": [
             [
              0,
              "#0d0887"
             ],
             [
              0.1111111111111111,
              "#46039f"
             ],
             [
              0.2222222222222222,
              "#7201a8"
             ],
             [
              0.3333333333333333,
              "#9c179e"
             ],
             [
              0.4444444444444444,
              "#bd3786"
             ],
             [
              0.5555555555555556,
              "#d8576b"
             ],
             [
              0.6666666666666666,
              "#ed7953"
             ],
             [
              0.7777777777777778,
              "#fb9f3a"
             ],
             [
              0.8888888888888888,
              "#fdca26"
             ],
             [
              1,
              "#f0f921"
             ]
            ],
            "type": "contour"
           }
          ],
          "contourcarpet": [
           {
            "colorbar": {
             "outlinewidth": 0,
             "ticks": ""
            },
            "type": "contourcarpet"
           }
          ],
          "heatmap": [
           {
            "colorbar": {
             "outlinewidth": 0,
             "ticks": ""
            },
            "colorscale": [
             [
              0,
              "#0d0887"
             ],
             [
              0.1111111111111111,
              "#46039f"
             ],
             [
              0.2222222222222222,
              "#7201a8"
             ],
             [
              0.3333333333333333,
              "#9c179e"
             ],
             [
              0.4444444444444444,
              "#bd3786"
             ],
             [
              0.5555555555555556,
              "#d8576b"
             ],
             [
              0.6666666666666666,
              "#ed7953"
             ],
             [
              0.7777777777777778,
              "#fb9f3a"
             ],
             [
              0.8888888888888888,
              "#fdca26"
             ],
             [
              1,
              "#f0f921"
             ]
            ],
            "type": "heatmap"
           }
          ],
          "heatmapgl": [
           {
            "colorbar": {
             "outlinewidth": 0,
             "ticks": ""
            },
            "colorscale": [
             [
              0,
              "#0d0887"
             ],
             [
              0.1111111111111111,
              "#46039f"
             ],
             [
              0.2222222222222222,
              "#7201a8"
             ],
             [
              0.3333333333333333,
              "#9c179e"
             ],
             [
              0.4444444444444444,
              "#bd3786"
             ],
             [
              0.5555555555555556,
              "#d8576b"
             ],
             [
              0.6666666666666666,
              "#ed7953"
             ],
             [
              0.7777777777777778,
              "#fb9f3a"
             ],
             [
              0.8888888888888888,
              "#fdca26"
             ],
             [
              1,
              "#f0f921"
             ]
            ],
            "type": "heatmapgl"
           }
          ],
          "histogram": [
           {
            "marker": {
             "colorbar": {
              "outlinewidth": 0,
              "ticks": ""
             }
            },
            "type": "histogram"
           }
          ],
          "histogram2d": [
           {
            "colorbar": {
             "outlinewidth": 0,
             "ticks": ""
            },
            "colorscale": [
             [
              0,
              "#0d0887"
             ],
             [
              0.1111111111111111,
              "#46039f"
             ],
             [
              0.2222222222222222,
              "#7201a8"
             ],
             [
              0.3333333333333333,
              "#9c179e"
             ],
             [
              0.4444444444444444,
              "#bd3786"
             ],
             [
              0.5555555555555556,
              "#d8576b"
             ],
             [
              0.6666666666666666,
              "#ed7953"
             ],
             [
              0.7777777777777778,
              "#fb9f3a"
             ],
             [
              0.8888888888888888,
              "#fdca26"
             ],
             [
              1,
              "#f0f921"
             ]
            ],
            "type": "histogram2d"
           }
          ],
          "histogram2dcontour": [
           {
            "colorbar": {
             "outlinewidth": 0,
             "ticks": ""
            },
            "colorscale": [
             [
              0,
              "#0d0887"
             ],
             [
              0.1111111111111111,
              "#46039f"
             ],
             [
              0.2222222222222222,
              "#7201a8"
             ],
             [
              0.3333333333333333,
              "#9c179e"
             ],
             [
              0.4444444444444444,
              "#bd3786"
             ],
             [
              0.5555555555555556,
              "#d8576b"
             ],
             [
              0.6666666666666666,
              "#ed7953"
             ],
             [
              0.7777777777777778,
              "#fb9f3a"
             ],
             [
              0.8888888888888888,
              "#fdca26"
             ],
             [
              1,
              "#f0f921"
             ]
            ],
            "type": "histogram2dcontour"
           }
          ],
          "mesh3d": [
           {
            "colorbar": {
             "outlinewidth": 0,
             "ticks": ""
            },
            "type": "mesh3d"
           }
          ],
          "parcoords": [
           {
            "line": {
             "colorbar": {
              "outlinewidth": 0,
              "ticks": ""
             }
            },
            "type": "parcoords"
           }
          ],
          "pie": [
           {
            "automargin": true,
            "type": "pie"
           }
          ],
          "scatter": [
           {
            "marker": {
             "colorbar": {
              "outlinewidth": 0,
              "ticks": ""
             }
            },
            "type": "scatter"
           }
          ],
          "scatter3d": [
           {
            "line": {
             "colorbar": {
              "outlinewidth": 0,
              "ticks": ""
             }
            },
            "marker": {
             "colorbar": {
              "outlinewidth": 0,
              "ticks": ""
             }
            },
            "type": "scatter3d"
           }
          ],
          "scattercarpet": [
           {
            "marker": {
             "colorbar": {
              "outlinewidth": 0,
              "ticks": ""
             }
            },
            "type": "scattercarpet"
           }
          ],
          "scattergeo": [
           {
            "marker": {
             "colorbar": {
              "outlinewidth": 0,
              "ticks": ""
             }
            },
            "type": "scattergeo"
           }
          ],
          "scattergl": [
           {
            "marker": {
             "colorbar": {
              "outlinewidth": 0,
              "ticks": ""
             }
            },
            "type": "scattergl"
           }
          ],
          "scattermapbox": [
           {
            "marker": {
             "colorbar": {
              "outlinewidth": 0,
              "ticks": ""
             }
            },
            "type": "scattermapbox"
           }
          ],
          "scatterpolar": [
           {
            "marker": {
             "colorbar": {
              "outlinewidth": 0,
              "ticks": ""
             }
            },
            "type": "scatterpolar"
           }
          ],
          "scatterpolargl": [
           {
            "marker": {
             "colorbar": {
              "outlinewidth": 0,
              "ticks": ""
             }
            },
            "type": "scatterpolargl"
           }
          ],
          "scatterternary": [
           {
            "marker": {
             "colorbar": {
              "outlinewidth": 0,
              "ticks": ""
             }
            },
            "type": "scatterternary"
           }
          ],
          "surface": [
           {
            "colorbar": {
             "outlinewidth": 0,
             "ticks": ""
            },
            "colorscale": [
             [
              0,
              "#0d0887"
             ],
             [
              0.1111111111111111,
              "#46039f"
             ],
             [
              0.2222222222222222,
              "#7201a8"
             ],
             [
              0.3333333333333333,
              "#9c179e"
             ],
             [
              0.4444444444444444,
              "#bd3786"
             ],
             [
              0.5555555555555556,
              "#d8576b"
             ],
             [
              0.6666666666666666,
              "#ed7953"
             ],
             [
              0.7777777777777778,
              "#fb9f3a"
             ],
             [
              0.8888888888888888,
              "#fdca26"
             ],
             [
              1,
              "#f0f921"
             ]
            ],
            "type": "surface"
           }
          ],
          "table": [
           {
            "cells": {
             "fill": {
              "color": "#EBF0F8"
             },
             "line": {
              "color": "white"
             }
            },
            "header": {
             "fill": {
              "color": "#C8D4E3"
             },
             "line": {
              "color": "white"
             }
            },
            "type": "table"
           }
          ]
         },
         "layout": {
          "annotationdefaults": {
           "arrowcolor": "#2a3f5f",
           "arrowhead": 0,
           "arrowwidth": 1
          },
          "autotypenumbers": "strict",
          "coloraxis": {
           "colorbar": {
            "outlinewidth": 0,
            "ticks": ""
           }
          },
          "colorscale": {
           "diverging": [
            [
             0,
             "#8e0152"
            ],
            [
             0.1,
             "#c51b7d"
            ],
            [
             0.2,
             "#de77ae"
            ],
            [
             0.3,
             "#f1b6da"
            ],
            [
             0.4,
             "#fde0ef"
            ],
            [
             0.5,
             "#f7f7f7"
            ],
            [
             0.6,
             "#e6f5d0"
            ],
            [
             0.7,
             "#b8e186"
            ],
            [
             0.8,
             "#7fbc41"
            ],
            [
             0.9,
             "#4d9221"
            ],
            [
             1,
             "#276419"
            ]
           ],
           "sequential": [
            [
             0,
             "#0d0887"
            ],
            [
             0.1111111111111111,
             "#46039f"
            ],
            [
             0.2222222222222222,
             "#7201a8"
            ],
            [
             0.3333333333333333,
             "#9c179e"
            ],
            [
             0.4444444444444444,
             "#bd3786"
            ],
            [
             0.5555555555555556,
             "#d8576b"
            ],
            [
             0.6666666666666666,
             "#ed7953"
            ],
            [
             0.7777777777777778,
             "#fb9f3a"
            ],
            [
             0.8888888888888888,
             "#fdca26"
            ],
            [
             1,
             "#f0f921"
            ]
           ],
           "sequentialminus": [
            [
             0,
             "#0d0887"
            ],
            [
             0.1111111111111111,
             "#46039f"
            ],
            [
             0.2222222222222222,
             "#7201a8"
            ],
            [
             0.3333333333333333,
             "#9c179e"
            ],
            [
             0.4444444444444444,
             "#bd3786"
            ],
            [
             0.5555555555555556,
             "#d8576b"
            ],
            [
             0.6666666666666666,
             "#ed7953"
            ],
            [
             0.7777777777777778,
             "#fb9f3a"
            ],
            [
             0.8888888888888888,
             "#fdca26"
            ],
            [
             1,
             "#f0f921"
            ]
           ]
          },
          "colorway": [
           "#636efa",
           "#EF553B",
           "#00cc96",
           "#ab63fa",
           "#FFA15A",
           "#19d3f3",
           "#FF6692",
           "#B6E880",
           "#FF97FF",
           "#FECB52"
          ],
          "font": {
           "color": "#2a3f5f"
          },
          "geo": {
           "bgcolor": "white",
           "lakecolor": "white",
           "landcolor": "#E5ECF6",
           "showlakes": true,
           "showland": true,
           "subunitcolor": "white"
          },
          "hoverlabel": {
           "align": "left"
          },
          "hovermode": "closest",
          "mapbox": {
           "style": "light"
          },
          "paper_bgcolor": "white",
          "plot_bgcolor": "#E5ECF6",
          "polar": {
           "angularaxis": {
            "gridcolor": "white",
            "linecolor": "white",
            "ticks": ""
           },
           "bgcolor": "#E5ECF6",
           "radialaxis": {
            "gridcolor": "white",
            "linecolor": "white",
            "ticks": ""
           }
          },
          "scene": {
           "xaxis": {
            "backgroundcolor": "#E5ECF6",
            "gridcolor": "white",
            "gridwidth": 2,
            "linecolor": "white",
            "showbackground": true,
            "ticks": "",
            "zerolinecolor": "white"
           },
           "yaxis": {
            "backgroundcolor": "#E5ECF6",
            "gridcolor": "white",
            "gridwidth": 2,
            "linecolor": "white",
            "showbackground": true,
            "ticks": "",
            "zerolinecolor": "white"
           },
           "zaxis": {
            "backgroundcolor": "#E5ECF6",
            "gridcolor": "white",
            "gridwidth": 2,
            "linecolor": "white",
            "showbackground": true,
            "ticks": "",
            "zerolinecolor": "white"
           }
          },
          "shapedefaults": {
           "line": {
            "color": "#2a3f5f"
           }
          },
          "ternary": {
           "aaxis": {
            "gridcolor": "white",
            "linecolor": "white",
            "ticks": ""
           },
           "baxis": {
            "gridcolor": "white",
            "linecolor": "white",
            "ticks": ""
           },
           "bgcolor": "#E5ECF6",
           "caxis": {
            "gridcolor": "white",
            "linecolor": "white",
            "ticks": ""
           }
          },
          "title": {
           "x": 0.05
          },
          "xaxis": {
           "automargin": true,
           "gridcolor": "white",
           "linecolor": "white",
           "ticks": "",
           "title": {
            "standoff": 15
           },
           "zerolinecolor": "white",
           "zerolinewidth": 2
          },
          "yaxis": {
           "automargin": true,
           "gridcolor": "white",
           "linecolor": "white",
           "ticks": "",
           "title": {
            "standoff": 15
           },
           "zerolinecolor": "white",
           "zerolinewidth": 2
          }
         }
        },
        "title": {
         "text": "Weekly sentiment analysis for PeerChannel(channel_id=1248279813)"
        },
        "xaxis": {
         "anchor": "y",
         "domain": [
          0,
          1
         ],
         "matches": "x7",
         "showticklabels": false
        },
        "xaxis2": {
         "anchor": "y2",
         "domain": [
          0,
          1
         ],
         "matches": "x7",
         "showticklabels": false
        },
        "xaxis3": {
         "anchor": "y3",
         "domain": [
          0,
          1
         ],
         "matches": "x7",
         "showticklabels": false
        },
        "xaxis4": {
         "anchor": "y4",
         "domain": [
          0,
          1
         ],
         "matches": "x7",
         "showticklabels": false
        },
        "xaxis5": {
         "anchor": "y5",
         "domain": [
          0,
          1
         ],
         "matches": "x7",
         "showticklabels": false
        },
        "xaxis6": {
         "anchor": "y6",
         "domain": [
          0,
          1
         ],
         "matches": "x7",
         "showticklabels": false
        },
        "xaxis7": {
         "anchor": "y7",
         "domain": [
          0,
          1
         ]
        },
        "yaxis": {
         "anchor": "x",
         "domain": [
          0.9183673469387754,
          0.9999999999999999
         ],
         "range": [
          -0.5,
          0.5
         ]
        },
        "yaxis2": {
         "anchor": "x2",
         "domain": [
          0.7653061224489794,
          0.8469387755102039
         ],
         "range": [
          -0.5,
          0.5
         ]
        },
        "yaxis3": {
         "anchor": "x3",
         "domain": [
          0.6122448979591837,
          0.6938775510204082
         ],
         "range": [
          -0.5,
          0.5
         ]
        },
        "yaxis4": {
         "anchor": "x4",
         "domain": [
          0.4591836734693877,
          0.5408163265306122
         ],
         "range": [
          -0.5,
          0.5
         ]
        },
        "yaxis5": {
         "anchor": "x5",
         "domain": [
          0.30612244897959184,
          0.3877551020408163
         ],
         "range": [
          -0.5,
          0.5
         ]
        },
        "yaxis6": {
         "anchor": "x6",
         "domain": [
          0.15306122448979592,
          0.2346938775510204
         ],
         "range": [
          -0.5,
          0.5
         ]
        },
        "yaxis7": {
         "anchor": "x7",
         "domain": [
          0,
          0.08163265306122448
         ],
         "range": [
          -0.5,
          0.5
         ]
        }
       }
      },
      "text/html": [
       "<div>                            <div id=\"6a3b93a1-7f2c-44df-9bdc-ca152c37f671\" class=\"plotly-graph-div\" style=\"height:1050px; width:100%;\"></div>            <script type=\"text/javascript\">                require([\"plotly\"], function(Plotly) {                    window.PLOTLYENV=window.PLOTLYENV || {};                                    if (document.getElementById(\"6a3b93a1-7f2c-44df-9bdc-ca152c37f671\")) {                    Plotly.newPlot(                        \"6a3b93a1-7f2c-44df-9bdc-ca152c37f671\",                        [{\"name\": \"Monday\", \"type\": \"scatter\", \"x\": [0, 1, 2, 3, 4, 5, 6, 7, 8, 9, 10, 11, 12, 13, 14, 15, 16, 17, 18, 19, 20, 21, 22, 23], \"xaxis\": \"x\", \"y\": [0, 0, 0, 0, 0, 0, 0, 0.227, 0, 0.203, 0, 0.168, 0, 0, 0.372, 0, 0, 0, 0.0, 0.236, 0, 0, 0, 0], \"yaxis\": \"y\"}, {\"name\": \"Tuesday\", \"type\": \"scatter\", \"x\": [0, 1, 2, 3, 4, 5, 6, 7, 8, 9, 10, 11, 12, 13, 14, 15, 16, 17, 18, 19, 20, 21, 22, 23], \"xaxis\": \"x2\", \"y\": [0, 0, 0, 0, 0, 0, 0, 0.095, 0, 0.315, 0, 0, 0.295, 0, 0.323, 0, 0.141, 0, 0.294, 0.279, 0, 0, 0, 0], \"yaxis\": \"y2\"}, {\"name\": \"Wednesday\", \"type\": \"scatter\", \"x\": [0, 1, 2, 3, 4, 5, 6, 7, 8, 9, 10, 11, 12, 13, 14, 15, 16, 17, 18, 19, 20, 21, 22, 23], \"xaxis\": \"x3\", \"y\": [0, 0, 0, 0, 0, 0, 0, 0, 0, 0.036, 0.125, 0.06, 0.389, 0.154, 0, 0.136, 0, 0, 0.183, 0, 0.062, 0, 0, 0], \"yaxis\": \"y3\"}, {\"name\": \"Thursday\", \"type\": \"scatter\", \"x\": [0, 1, 2, 3, 4, 5, 6, 7, 8, 9, 10, 11, 12, 13, 14, 15, 16, 17, 18, 19, 20, 21, 22, 23], \"xaxis\": \"x4\", \"y\": [0, 0, 0, 0, 0, 0, 0, 0, 0, 0.127, 0, 0.271, 0, 0, 0.276, 0, -0.004, 0, 0, 0, 0, 0, 0, 0], \"yaxis\": \"y4\"}, {\"name\": \"Friday\", \"type\": \"scatter\", \"x\": [0, 1, 2, 3, 4, 5, 6, 7, 8, 9, 10, 11, 12, 13, 14, 15, 16, 17, 18, 19, 20, 21, 22, 23], \"xaxis\": \"x5\", \"y\": [0, 0, 0, 0, 0, 0, 0, 0, 0.392, 0.102, 0, 0, 0.198, 0.218, 0, 0.043, 0.319, 0, 0.348, 0, 0, 0, 0, 0], \"yaxis\": \"y5\"}, {\"name\": \"Saturday\", \"type\": \"scatter\", \"x\": [0, 1, 2, 3, 4, 5, 6, 7, 8, 9, 10, 11, 12, 13, 14, 15, 16, 17, 18, 19, 20, 21, 22, 23], \"xaxis\": \"x6\", \"y\": [0, 0, 0, 0, 0, 0, 0, 0, 0, 0.212, 0, 0, 0.448, 0, 0.314, 0, 0, 0.0, 0.166, 0.21, 0, 0, 0, 0], \"yaxis\": \"y6\"}, {\"name\": \"Sunday\", \"type\": \"scatter\", \"x\": [0, 1, 2, 3, 4, 5, 6, 7, 8, 9, 10, 11, 12, 13, 14, 15, 16, 17, 18, 19, 20, 21, 22, 23], \"xaxis\": \"x7\", \"y\": [0, 0, 0, 0, 0, 0, 0, 0, 0, 0, 0, 0, 0, 0, 0, 0, 0.121, 0.284, 0, 0.287, 0.213, 0, 0, 0], \"yaxis\": \"y7\"}],                        {\"annotations\": [{\"font\": {\"size\": 16}, \"showarrow\": false, \"text\": \"Monday\", \"x\": 0.055, \"xanchor\": \"center\", \"xref\": \"paper\", \"y\": 0.965, \"yanchor\": \"bottom\", \"yref\": \"paper\"}, {\"font\": {\"size\": 16}, \"showarrow\": false, \"text\": \"Tuesday\", \"x\": 0.055, \"xanchor\": \"center\", \"xref\": \"paper\", \"y\": 0.81, \"yanchor\": \"bottom\", \"yref\": \"paper\"}, {\"font\": {\"size\": 16}, \"showarrow\": false, \"text\": \"Wednesday\", \"x\": 0.068, \"xanchor\": \"center\", \"xref\": \"paper\", \"y\": 0.66, \"yanchor\": \"bottom\", \"yref\": \"paper\"}, {\"font\": {\"size\": 16}, \"showarrow\": false, \"text\": \"Thursday\", \"x\": 0.055, \"xanchor\": \"center\", \"xref\": \"paper\", \"y\": 0.51, \"yanchor\": \"bottom\", \"yref\": \"paper\"}, {\"font\": {\"size\": 16}, \"showarrow\": false, \"text\": \"Friday\", \"x\": 0.045, \"xanchor\": \"center\", \"xref\": \"paper\", \"y\": 0.355, \"yanchor\": \"bottom\", \"yref\": \"paper\"}, {\"font\": {\"size\": 16}, \"showarrow\": false, \"text\": \"Saturday\", \"x\": 0.055, \"xanchor\": \"center\", \"xref\": \"paper\", \"y\": 0.2, \"yanchor\": \"bottom\", \"yref\": \"paper\"}, {\"font\": {\"size\": 16}, \"showarrow\": false, \"text\": \"Sunday\", \"x\": 0.045, \"xanchor\": \"center\", \"xref\": \"paper\", \"y\": 0.05, \"yanchor\": \"bottom\", \"yref\": \"paper\"}, {\"font\": {\"size\": 16}, \"showarrow\": false, \"text\": \"Hours\", \"x\": 0.5, \"xanchor\": \"center\", \"xref\": \"paper\", \"y\": 0, \"yanchor\": \"top\", \"yref\": \"paper\", \"yshift\": -30}, {\"font\": {\"size\": 16}, \"showarrow\": false, \"text\": \"Sentiment\", \"textangle\": -90, \"x\": 0, \"xanchor\": \"right\", \"xref\": \"paper\", \"xshift\": -40, \"y\": 0.5, \"yanchor\": \"middle\", \"yref\": \"paper\"}], \"height\": 1050, \"showlegend\": false, \"template\": {\"data\": {\"bar\": [{\"error_x\": {\"color\": \"#2a3f5f\"}, \"error_y\": {\"color\": \"#2a3f5f\"}, \"marker\": {\"line\": {\"color\": \"#E5ECF6\", \"width\": 0.5}}, \"type\": \"bar\"}], \"barpolar\": [{\"marker\": {\"line\": {\"color\": \"#E5ECF6\", \"width\": 0.5}}, \"type\": \"barpolar\"}], \"carpet\": [{\"aaxis\": {\"endlinecolor\": \"#2a3f5f\", \"gridcolor\": \"white\", \"linecolor\": \"white\", \"minorgridcolor\": \"white\", \"startlinecolor\": \"#2a3f5f\"}, \"baxis\": {\"endlinecolor\": \"#2a3f5f\", \"gridcolor\": \"white\", \"linecolor\": \"white\", \"minorgridcolor\": \"white\", \"startlinecolor\": \"#2a3f5f\"}, \"type\": \"carpet\"}], \"choropleth\": [{\"colorbar\": {\"outlinewidth\": 0, \"ticks\": \"\"}, \"type\": \"choropleth\"}], \"contour\": [{\"colorbar\": {\"outlinewidth\": 0, \"ticks\": \"\"}, \"colorscale\": [[0.0, \"#0d0887\"], [0.1111111111111111, \"#46039f\"], [0.2222222222222222, \"#7201a8\"], [0.3333333333333333, \"#9c179e\"], [0.4444444444444444, \"#bd3786\"], [0.5555555555555556, \"#d8576b\"], [0.6666666666666666, \"#ed7953\"], [0.7777777777777778, \"#fb9f3a\"], [0.8888888888888888, \"#fdca26\"], [1.0, \"#f0f921\"]], \"type\": \"contour\"}], \"contourcarpet\": [{\"colorbar\": {\"outlinewidth\": 0, \"ticks\": \"\"}, \"type\": \"contourcarpet\"}], \"heatmap\": [{\"colorbar\": {\"outlinewidth\": 0, \"ticks\": \"\"}, \"colorscale\": [[0.0, \"#0d0887\"], [0.1111111111111111, \"#46039f\"], [0.2222222222222222, \"#7201a8\"], [0.3333333333333333, \"#9c179e\"], [0.4444444444444444, \"#bd3786\"], [0.5555555555555556, \"#d8576b\"], [0.6666666666666666, \"#ed7953\"], [0.7777777777777778, \"#fb9f3a\"], [0.8888888888888888, \"#fdca26\"], [1.0, \"#f0f921\"]], \"type\": \"heatmap\"}], \"heatmapgl\": [{\"colorbar\": {\"outlinewidth\": 0, \"ticks\": \"\"}, \"colorscale\": [[0.0, \"#0d0887\"], [0.1111111111111111, \"#46039f\"], [0.2222222222222222, \"#7201a8\"], [0.3333333333333333, \"#9c179e\"], [0.4444444444444444, \"#bd3786\"], [0.5555555555555556, \"#d8576b\"], [0.6666666666666666, \"#ed7953\"], [0.7777777777777778, \"#fb9f3a\"], [0.8888888888888888, \"#fdca26\"], [1.0, \"#f0f921\"]], \"type\": \"heatmapgl\"}], \"histogram\": [{\"marker\": {\"colorbar\": {\"outlinewidth\": 0, \"ticks\": \"\"}}, \"type\": \"histogram\"}], \"histogram2d\": [{\"colorbar\": {\"outlinewidth\": 0, \"ticks\": \"\"}, \"colorscale\": [[0.0, \"#0d0887\"], [0.1111111111111111, \"#46039f\"], [0.2222222222222222, \"#7201a8\"], [0.3333333333333333, \"#9c179e\"], [0.4444444444444444, \"#bd3786\"], [0.5555555555555556, \"#d8576b\"], [0.6666666666666666, \"#ed7953\"], [0.7777777777777778, \"#fb9f3a\"], [0.8888888888888888, \"#fdca26\"], [1.0, \"#f0f921\"]], \"type\": \"histogram2d\"}], \"histogram2dcontour\": [{\"colorbar\": {\"outlinewidth\": 0, \"ticks\": \"\"}, \"colorscale\": [[0.0, \"#0d0887\"], [0.1111111111111111, \"#46039f\"], [0.2222222222222222, \"#7201a8\"], [0.3333333333333333, \"#9c179e\"], [0.4444444444444444, \"#bd3786\"], [0.5555555555555556, \"#d8576b\"], [0.6666666666666666, \"#ed7953\"], [0.7777777777777778, \"#fb9f3a\"], [0.8888888888888888, \"#fdca26\"], [1.0, \"#f0f921\"]], \"type\": \"histogram2dcontour\"}], \"mesh3d\": [{\"colorbar\": {\"outlinewidth\": 0, \"ticks\": \"\"}, \"type\": \"mesh3d\"}], \"parcoords\": [{\"line\": {\"colorbar\": {\"outlinewidth\": 0, \"ticks\": \"\"}}, \"type\": \"parcoords\"}], \"pie\": [{\"automargin\": true, \"type\": \"pie\"}], \"scatter\": [{\"marker\": {\"colorbar\": {\"outlinewidth\": 0, \"ticks\": \"\"}}, \"type\": \"scatter\"}], \"scatter3d\": [{\"line\": {\"colorbar\": {\"outlinewidth\": 0, \"ticks\": \"\"}}, \"marker\": {\"colorbar\": {\"outlinewidth\": 0, \"ticks\": \"\"}}, \"type\": \"scatter3d\"}], \"scattercarpet\": [{\"marker\": {\"colorbar\": {\"outlinewidth\": 0, \"ticks\": \"\"}}, \"type\": \"scattercarpet\"}], \"scattergeo\": [{\"marker\": {\"colorbar\": {\"outlinewidth\": 0, \"ticks\": \"\"}}, \"type\": \"scattergeo\"}], \"scattergl\": [{\"marker\": {\"colorbar\": {\"outlinewidth\": 0, \"ticks\": \"\"}}, \"type\": \"scattergl\"}], \"scattermapbox\": [{\"marker\": {\"colorbar\": {\"outlinewidth\": 0, \"ticks\": \"\"}}, \"type\": \"scattermapbox\"}], \"scatterpolar\": [{\"marker\": {\"colorbar\": {\"outlinewidth\": 0, \"ticks\": \"\"}}, \"type\": \"scatterpolar\"}], \"scatterpolargl\": [{\"marker\": {\"colorbar\": {\"outlinewidth\": 0, \"ticks\": \"\"}}, \"type\": \"scatterpolargl\"}], \"scatterternary\": [{\"marker\": {\"colorbar\": {\"outlinewidth\": 0, \"ticks\": \"\"}}, \"type\": \"scatterternary\"}], \"surface\": [{\"colorbar\": {\"outlinewidth\": 0, \"ticks\": \"\"}, \"colorscale\": [[0.0, \"#0d0887\"], [0.1111111111111111, \"#46039f\"], [0.2222222222222222, \"#7201a8\"], [0.3333333333333333, \"#9c179e\"], [0.4444444444444444, \"#bd3786\"], [0.5555555555555556, \"#d8576b\"], [0.6666666666666666, \"#ed7953\"], [0.7777777777777778, \"#fb9f3a\"], [0.8888888888888888, \"#fdca26\"], [1.0, \"#f0f921\"]], \"type\": \"surface\"}], \"table\": [{\"cells\": {\"fill\": {\"color\": \"#EBF0F8\"}, \"line\": {\"color\": \"white\"}}, \"header\": {\"fill\": {\"color\": \"#C8D4E3\"}, \"line\": {\"color\": \"white\"}}, \"type\": \"table\"}]}, \"layout\": {\"annotationdefaults\": {\"arrowcolor\": \"#2a3f5f\", \"arrowhead\": 0, \"arrowwidth\": 1}, \"autotypenumbers\": \"strict\", \"coloraxis\": {\"colorbar\": {\"outlinewidth\": 0, \"ticks\": \"\"}}, \"colorscale\": {\"diverging\": [[0, \"#8e0152\"], [0.1, \"#c51b7d\"], [0.2, \"#de77ae\"], [0.3, \"#f1b6da\"], [0.4, \"#fde0ef\"], [0.5, \"#f7f7f7\"], [0.6, \"#e6f5d0\"], [0.7, \"#b8e186\"], [0.8, \"#7fbc41\"], [0.9, \"#4d9221\"], [1, \"#276419\"]], \"sequential\": [[0.0, \"#0d0887\"], [0.1111111111111111, \"#46039f\"], [0.2222222222222222, \"#7201a8\"], [0.3333333333333333, \"#9c179e\"], [0.4444444444444444, \"#bd3786\"], [0.5555555555555556, \"#d8576b\"], [0.6666666666666666, \"#ed7953\"], [0.7777777777777778, \"#fb9f3a\"], [0.8888888888888888, \"#fdca26\"], [1.0, \"#f0f921\"]], \"sequentialminus\": [[0.0, \"#0d0887\"], [0.1111111111111111, \"#46039f\"], [0.2222222222222222, \"#7201a8\"], [0.3333333333333333, \"#9c179e\"], [0.4444444444444444, \"#bd3786\"], [0.5555555555555556, \"#d8576b\"], [0.6666666666666666, \"#ed7953\"], [0.7777777777777778, \"#fb9f3a\"], [0.8888888888888888, \"#fdca26\"], [1.0, \"#f0f921\"]]}, \"colorway\": [\"#636efa\", \"#EF553B\", \"#00cc96\", \"#ab63fa\", \"#FFA15A\", \"#19d3f3\", \"#FF6692\", \"#B6E880\", \"#FF97FF\", \"#FECB52\"], \"font\": {\"color\": \"#2a3f5f\"}, \"geo\": {\"bgcolor\": \"white\", \"lakecolor\": \"white\", \"landcolor\": \"#E5ECF6\", \"showlakes\": true, \"showland\": true, \"subunitcolor\": \"white\"}, \"hoverlabel\": {\"align\": \"left\"}, \"hovermode\": \"closest\", \"mapbox\": {\"style\": \"light\"}, \"paper_bgcolor\": \"white\", \"plot_bgcolor\": \"#E5ECF6\", \"polar\": {\"angularaxis\": {\"gridcolor\": \"white\", \"linecolor\": \"white\", \"ticks\": \"\"}, \"bgcolor\": \"#E5ECF6\", \"radialaxis\": {\"gridcolor\": \"white\", \"linecolor\": \"white\", \"ticks\": \"\"}}, \"scene\": {\"xaxis\": {\"backgroundcolor\": \"#E5ECF6\", \"gridcolor\": \"white\", \"gridwidth\": 2, \"linecolor\": \"white\", \"showbackground\": true, \"ticks\": \"\", \"zerolinecolor\": \"white\"}, \"yaxis\": {\"backgroundcolor\": \"#E5ECF6\", \"gridcolor\": \"white\", \"gridwidth\": 2, \"linecolor\": \"white\", \"showbackground\": true, \"ticks\": \"\", \"zerolinecolor\": \"white\"}, \"zaxis\": {\"backgroundcolor\": \"#E5ECF6\", \"gridcolor\": \"white\", \"gridwidth\": 2, \"linecolor\": \"white\", \"showbackground\": true, \"ticks\": \"\", \"zerolinecolor\": \"white\"}}, \"shapedefaults\": {\"line\": {\"color\": \"#2a3f5f\"}}, \"ternary\": {\"aaxis\": {\"gridcolor\": \"white\", \"linecolor\": \"white\", \"ticks\": \"\"}, \"baxis\": {\"gridcolor\": \"white\", \"linecolor\": \"white\", \"ticks\": \"\"}, \"bgcolor\": \"#E5ECF6\", \"caxis\": {\"gridcolor\": \"white\", \"linecolor\": \"white\", \"ticks\": \"\"}}, \"title\": {\"x\": 0.05}, \"xaxis\": {\"automargin\": true, \"gridcolor\": \"white\", \"linecolor\": \"white\", \"ticks\": \"\", \"title\": {\"standoff\": 15}, \"zerolinecolor\": \"white\", \"zerolinewidth\": 2}, \"yaxis\": {\"automargin\": true, \"gridcolor\": \"white\", \"linecolor\": \"white\", \"ticks\": \"\", \"title\": {\"standoff\": 15}, \"zerolinecolor\": \"white\", \"zerolinewidth\": 2}}}, \"title\": {\"text\": \"Weekly sentiment analysis for PeerChannel(channel_id=1248279813)\"}, \"xaxis\": {\"anchor\": \"y\", \"domain\": [0.0, 1.0], \"matches\": \"x7\", \"showticklabels\": false}, \"xaxis2\": {\"anchor\": \"y2\", \"domain\": [0.0, 1.0], \"matches\": \"x7\", \"showticklabels\": false}, \"xaxis3\": {\"anchor\": \"y3\", \"domain\": [0.0, 1.0], \"matches\": \"x7\", \"showticklabels\": false}, \"xaxis4\": {\"anchor\": \"y4\", \"domain\": [0.0, 1.0], \"matches\": \"x7\", \"showticklabels\": false}, \"xaxis5\": {\"anchor\": \"y5\", \"domain\": [0.0, 1.0], \"matches\": \"x7\", \"showticklabels\": false}, \"xaxis6\": {\"anchor\": \"y6\", \"domain\": [0.0, 1.0], \"matches\": \"x7\", \"showticklabels\": false}, \"xaxis7\": {\"anchor\": \"y7\", \"domain\": [0.0, 1.0]}, \"yaxis\": {\"anchor\": \"x\", \"domain\": [0.9183673469387754, 0.9999999999999999], \"range\": [-0.5, 0.5]}, \"yaxis2\": {\"anchor\": \"x2\", \"domain\": [0.7653061224489794, 0.8469387755102039], \"range\": [-0.5, 0.5]}, \"yaxis3\": {\"anchor\": \"x3\", \"domain\": [0.6122448979591837, 0.6938775510204082], \"range\": [-0.5, 0.5]}, \"yaxis4\": {\"anchor\": \"x4\", \"domain\": [0.4591836734693877, 0.5408163265306122], \"range\": [-0.5, 0.5]}, \"yaxis5\": {\"anchor\": \"x5\", \"domain\": [0.30612244897959184, 0.3877551020408163], \"range\": [-0.5, 0.5]}, \"yaxis6\": {\"anchor\": \"x6\", \"domain\": [0.15306122448979592, 0.2346938775510204], \"range\": [-0.5, 0.5]}, \"yaxis7\": {\"anchor\": \"x7\", \"domain\": [0.0, 0.08163265306122448], \"range\": [-0.5, 0.5]}},                        {\"responsive\": true}                    ).then(function(){\n",
       "                            \n",
       "var gd = document.getElementById('6a3b93a1-7f2c-44df-9bdc-ca152c37f671');\n",
       "var x = new MutationObserver(function (mutations, observer) {{\n",
       "        var display = window.getComputedStyle(gd).display;\n",
       "        if (!display || display === 'none') {{\n",
       "            console.log([gd, 'removed!']);\n",
       "            Plotly.purge(gd);\n",
       "            observer.disconnect();\n",
       "        }}\n",
       "}});\n",
       "\n",
       "// Listen for the removal of the full notebook cells\n",
       "var notebookContainer = gd.closest('#notebook-container');\n",
       "if (notebookContainer) {{\n",
       "    x.observe(notebookContainer, {childList: true});\n",
       "}}\n",
       "\n",
       "// Listen for the clearing of the current output cell\n",
       "var outputEl = gd.closest('.output');\n",
       "if (outputEl) {{\n",
       "    x.observe(outputEl, {childList: true});\n",
       "}}\n",
       "\n",
       "                        })                };                });            </script>        </div>"
      ]
     },
     "metadata": {},
     "output_type": "display_data"
    }
   ],
   "source": [
    "def visualize_user_sentiment(sentiment_data, user_id):\n",
    "    \"\"\"\n",
    "    Visualize sentiment data for a specific user\n",
    "    in a timeline (linear graph), starting at 00:00 on Monday,\n",
    "    finishing at 23:59 on Sunday    \"\"\"\n",
    "\n",
    "    user_sent_data = sentiment_data[sentiment_data['from_id'] == \"PeerChannel(channel_id=1248279813)\"]\n",
    "\n",
    "    fig = make_subplots(rows=7, cols=1,\n",
    "                   subplot_titles=(\"Monday\", \"Tuesday\", \"Wednesday\", \"Thursday\",\n",
    "                                   \"Friday\", \"Saturday\", \"Sunday\"),\n",
    "                   shared_yaxes=True,\n",
    "                   shared_xaxes=True,\n",
    "                   x_title=\"Hours\",\n",
    "                   y_title=\"Sentiment\",\n",
    "                   horizontal_spacing=0.005,\n",
    "\n",
    "                    )\n",
    "\n",
    "\n",
    "\n",
    "    fig.update_layout(title_text=f\"Weekly sentiment analysis for PeerChannel(channel_id=1248279813)\", height=1050, showlegend=False)\n",
    "    for day_of_week in range(1, 8):\n",
    "        day_of_week_data = user_sent_data.query(f'day_of_week == {day_of_week}')\n",
    "        hourly_data = dict(zip(day_of_week_data.hour_of_day, day_of_week_data.avg_subdialog_sentiment))\n",
    "        hourly_data_dict = {hour : 0 for hour in range(24)}\n",
    "        hourly_data_dict.update(hourly_data)\n",
    "\n",
    "        fig.add_scatter(x=list(hourly_data_dict.keys()),\n",
    "                        y=list(hourly_data_dict.values()),\n",
    "                        name=get_week_day_from_number(day_of_week),\n",
    "                        row=day_of_week, col=1,\n",
    "                       )\n",
    "\n",
    "        fig.update_yaxes(range=[-0.5, 0.5], row=day_of_week, col=1)\n",
    "\n",
    "    fig.layout.annotations[0].update(x=0.055, y=0.965)\n",
    "    fig.layout.annotations[1].update(x=0.055, y=0.81)\n",
    "    fig.layout.annotations[2].update(x=0.068, y=0.66)\n",
    "    fig.layout.annotations[3].update(x=0.055, y=0.51)\n",
    "    fig.layout.annotations[4].update(x=0.045, y=0.355)\n",
    "    fig.layout.annotations[5].update(x=0.055, y=0.2)\n",
    "    fig.layout.annotations[6].update(x=0.045, y=0.05)\n",
    "\n",
    "\n",
    "    fig.show()\n",
    "\n",
    "\n",
    "visualize_user_sentiment(final_sentiment_data, USER_ID)"
   ]
  },
  {
   "cell_type": "markdown",
   "id": "3656b34f",
   "metadata": {},
   "source": [
    "### !! I don't know why but this graph doesn't show when I downlode the file (so I put screenshots of it below)"
   ]
  },
  {
   "attachments": {
    "photo_2022-04-18_16-46-14.jpg": {
     "image/jpeg": "[encoded data removed]"
    }
   },
   "cell_type": "markdown",
   "id": "d0d01aa1",
   "metadata": {},
   "source": [
    "![photo_2022-04-18_16-46-14.jpg](attachment:photo_2022-04-18_16-46-14.jpg)"
   ]
  },
  {
   "attachments": {
    "photo_2022-04-18_16-46-22.jpg": {
     "image/jpeg": "[encoded data removed]"
    }
   },
   "cell_type": "markdown",
   "id": "328576f2",
   "metadata": {},
   "source": [
    "![photo_2022-04-18_16-46-22.jpg](attachment:photo_2022-04-18_16-46-22.jpg)"
   ]
  },
  {
   "cell_type": "markdown",
   "id": "4c982b1d",
   "metadata": {},
   "source": [
    "#### I used the id of channel for important info of my speciality. As we can see the messages from the channel are positive/neutral energy (because it's used to convey important info)\n",
    "#### Acoording to this visualisation we receive important messages during the working day (if it's a weekday) and mostly during evening if it's a weekday."
   ]
  },
  {
   "cell_type": "markdown",
   "id": "c6d47c6d",
   "metadata": {},
   "source": [
    "#### ----------------------------------------------------------------------------------------------------------------------------------------------------------------------------------------\n",
    "### ☞ What is the average sentiment per dialog?\n",
    "### ☞ Do dialogs have more 'positive' or 'negative' energy according to the overall sentiment?\n",
    "#### `Hypothesis: Dialogs have mostly positive sentiment because (I hope) people tend to give and receive more positive messages`"
   ]
  },
  {
   "cell_type": "code",
   "execution_count": 241,
   "id": "b149d402",
   "metadata": {},
   "outputs": [],
   "source": [
    "data_per_id = data.copy()\n",
    "sentiment_per_id = data.copy()"
   ]
  },
  {
   "cell_type": "code",
   "execution_count": 242,
   "id": "b45d5dd4",
   "metadata": {},
   "outputs": [],
   "source": [
    "data_per_id = data_per_id.groupby(['dialog_id']).size().reset_index(name='count')\n",
    "sentiment_per_id = sentiment_per_id.groupby('dialog_id')['sentiment'].sum()"
   ]
  },
  {
   "cell_type": "code",
   "execution_count": 243,
   "id": "813df666",
   "metadata": {},
   "outputs": [
    {
     "data": {
      "text/html": [
       "<div>\n",
       "<style scoped>\n",
       "    .dataframe tbody tr th:only-of-type {\n",
       "        vertical-align: middle;\n",
       "    }\n",
       "\n",
       "    .dataframe tbody tr th {\n",
       "        vertical-align: top;\n",
       "    }\n",
       "\n",
       "    .dataframe thead th {\n",
       "        text-align: right;\n",
       "    }\n",
       "</style>\n",
       "<table border=\"1\" class=\"dataframe\">\n",
       "  <thead>\n",
       "    <tr style=\"text-align: right;\">\n",
       "      <th></th>\n",
       "      <th>sentiment</th>\n",
       "      <th>result</th>\n",
       "    </tr>\n",
       "    <tr>\n",
       "      <th>dialog_id</th>\n",
       "      <th></th>\n",
       "      <th></th>\n",
       "    </tr>\n",
       "  </thead>\n",
       "  <tbody>\n",
       "    <tr>\n",
       "      <th>-1001787503050</th>\n",
       "      <td>22.828510</td>\n",
       "      <td>0.191836</td>\n",
       "    </tr>\n",
       "    <tr>\n",
       "      <th>-1001761570307</th>\n",
       "      <td>0.000000</td>\n",
       "      <td>0.000000</td>\n",
       "    </tr>\n",
       "    <tr>\n",
       "      <th>-1001650358448</th>\n",
       "      <td>1498.386685</td>\n",
       "      <td>0.084861</td>\n",
       "    </tr>\n",
       "    <tr>\n",
       "      <th>-1001614610308</th>\n",
       "      <td>2402.602491</td>\n",
       "      <td>0.084566</td>\n",
       "    </tr>\n",
       "    <tr>\n",
       "      <th>-1001603402510</th>\n",
       "      <td>1.278600</td>\n",
       "      <td>0.009760</td>\n",
       "    </tr>\n",
       "    <tr>\n",
       "      <th>...</th>\n",
       "      <td>...</td>\n",
       "      <td>...</td>\n",
       "    </tr>\n",
       "    <tr>\n",
       "      <th>1859205513</th>\n",
       "      <td>0.000000</td>\n",
       "      <td>0.000000</td>\n",
       "    </tr>\n",
       "    <tr>\n",
       "      <th>2043038625</th>\n",
       "      <td>0.000000</td>\n",
       "      <td>0.000000</td>\n",
       "    </tr>\n",
       "    <tr>\n",
       "      <th>5005476282</th>\n",
       "      <td>23.388154</td>\n",
       "      <td>0.206975</td>\n",
       "    </tr>\n",
       "    <tr>\n",
       "      <th>5064651280</th>\n",
       "      <td>5.675809</td>\n",
       "      <td>0.082258</td>\n",
       "    </tr>\n",
       "    <tr>\n",
       "      <th>5111973606</th>\n",
       "      <td>0.000000</td>\n",
       "      <td>0.000000</td>\n",
       "    </tr>\n",
       "  </tbody>\n",
       "</table>\n",
       "<p>244 rows × 2 columns</p>\n",
       "</div>"
      ],
      "text/plain": [
       "                  sentiment    result\n",
       "dialog_id                            \n",
       "-1001787503050    22.828510  0.191836\n",
       "-1001761570307     0.000000  0.000000\n",
       "-1001650358448  1498.386685  0.084861\n",
       "-1001614610308  2402.602491  0.084566\n",
       "-1001603402510     1.278600  0.009760\n",
       "...                     ...       ...\n",
       " 1859205513        0.000000  0.000000\n",
       " 2043038625        0.000000  0.000000\n",
       " 5005476282       23.388154  0.206975\n",
       " 5064651280        5.675809  0.082258\n",
       " 5111973606        0.000000  0.000000\n",
       "\n",
       "[244 rows x 2 columns]"
      ]
     },
     "execution_count": 243,
     "metadata": {},
     "output_type": "execute_result"
    }
   ],
   "source": [
    "sentiment_per_id = pd.DataFrame(sentiment_per_id)\n",
    "sentiment_per_id.head()\n",
    "sentiment_per_id[\"result\"] = sentiment_per_id[\"sentiment\"].div(data_per_id[\"count\"].values)\n",
    "sentiment_per_id"
   ]
  },
  {
   "cell_type": "code",
   "execution_count": 305,
   "id": "afa1e6de",
   "metadata": {},
   "outputs": [],
   "source": [
    "final = sentiment_per_id.merge(data_per_id, on=\"dialog_id\")\n",
    "for ind in final.index:\n",
    "    if (final[\"result\"][ind] == 0):\n",
    "        final[\"result\"][ind] = -1 / final[\"count\"][ind]  \n",
    "final = final.drop(final[final.result == -1.0].index)"
   ]
  },
  {
   "cell_type": "code",
   "execution_count": 270,
   "id": "437e5ce3",
   "metadata": {},
   "outputs": [
    {
     "data": {
      "text/html": [
       "<div>\n",
       "<style scoped>\n",
       "    .dataframe tbody tr th:only-of-type {\n",
       "        vertical-align: middle;\n",
       "    }\n",
       "\n",
       "    .dataframe tbody tr th {\n",
       "        vertical-align: top;\n",
       "    }\n",
       "\n",
       "    .dataframe thead th {\n",
       "        text-align: right;\n",
       "    }\n",
       "</style>\n",
       "<table border=\"1\" class=\"dataframe\">\n",
       "  <thead>\n",
       "    <tr style=\"text-align: right;\">\n",
       "      <th></th>\n",
       "      <th>dialog_id</th>\n",
       "      <th>sentiment</th>\n",
       "      <th>result</th>\n",
       "      <th>count</th>\n",
       "      <th>name</th>\n",
       "      <th>type</th>\n",
       "      <th>users</th>\n",
       "    </tr>\n",
       "  </thead>\n",
       "  <tbody>\n",
       "    <tr>\n",
       "      <th>0</th>\n",
       "      <td>653149110</td>\n",
       "      <td>1.579867</td>\n",
       "      <td>0.789933</td>\n",
       "      <td>2</td>\n",
       "      <td>thegreatpretender</td>\n",
       "      <td>Private dialog</td>\n",
       "      <td>{'user_id': 653149110, 'first_name': 'thegreat...</td>\n",
       "    </tr>\n",
       "    <tr>\n",
       "      <th>1</th>\n",
       "      <td>392408312</td>\n",
       "      <td>1.300753</td>\n",
       "      <td>0.433584</td>\n",
       "      <td>3</td>\n",
       "      <td>Alina Voronina</td>\n",
       "      <td>Private dialog</td>\n",
       "      <td>{'user_id': 392408312, 'first_name': 'Alina', ...</td>\n",
       "    </tr>\n",
       "    <tr>\n",
       "      <th>2</th>\n",
       "      <td>564262388</td>\n",
       "      <td>5.318493</td>\n",
       "      <td>0.409115</td>\n",
       "      <td>13</td>\n",
       "      <td>Andriana P</td>\n",
       "      <td>Private dialog</td>\n",
       "      <td>{'user_id': 564262388, 'first_name': 'Andriana...</td>\n",
       "    </tr>\n",
       "    <tr>\n",
       "      <th>3</th>\n",
       "      <td>280169349</td>\n",
       "      <td>2.037530</td>\n",
       "      <td>0.407506</td>\n",
       "      <td>5</td>\n",
       "      <td>T</td>\n",
       "      <td>Private dialog</td>\n",
       "      <td>{'user_id': 280169349, 'first_name': 'T', 'las...</td>\n",
       "    </tr>\n",
       "    <tr>\n",
       "      <th>4</th>\n",
       "      <td>425228257</td>\n",
       "      <td>8.408172</td>\n",
       "      <td>0.400389</td>\n",
       "      <td>21</td>\n",
       "      <td>Маргарита Дуденко</td>\n",
       "      <td>Private dialog</td>\n",
       "      <td>{'user_id': 425228257, 'first_name': 'Маргарит...</td>\n",
       "    </tr>\n",
       "    <tr>\n",
       "      <th>5</th>\n",
       "      <td>470773767</td>\n",
       "      <td>2.787358</td>\n",
       "      <td>0.398194</td>\n",
       "      <td>7</td>\n",
       "      <td>Kate Korol</td>\n",
       "      <td>Private dialog</td>\n",
       "      <td>{'user_id': 470773767, 'first_name': 'Kate', '...</td>\n",
       "    </tr>\n",
       "    <tr>\n",
       "      <th>6</th>\n",
       "      <td>436745155</td>\n",
       "      <td>0.370064</td>\n",
       "      <td>0.370064</td>\n",
       "      <td>1</td>\n",
       "      <td>Катя</td>\n",
       "      <td>Private dialog</td>\n",
       "      <td>{'user_id': 436745155, 'first_name': 'Катя', '...</td>\n",
       "    </tr>\n",
       "    <tr>\n",
       "      <th>7</th>\n",
       "      <td>427207286</td>\n",
       "      <td>7.401098</td>\n",
       "      <td>0.370055</td>\n",
       "      <td>20</td>\n",
       "      <td>Льоля</td>\n",
       "      <td>Private dialog</td>\n",
       "      <td>{'user_id': 427207286, 'first_name': 'Льоля', ...</td>\n",
       "    </tr>\n",
       "    <tr>\n",
       "      <th>8</th>\n",
       "      <td>-593686724</td>\n",
       "      <td>160.922535</td>\n",
       "      <td>0.315534</td>\n",
       "      <td>510</td>\n",
       "      <td>Алгебра та геометрія ПМ-2</td>\n",
       "      <td>Group</td>\n",
       "      <td>{'user_id': 402169082, 'first_name': 'Igor', '...</td>\n",
       "    </tr>\n",
       "    <tr>\n",
       "      <th>9</th>\n",
       "      <td>-593686724</td>\n",
       "      <td>160.922535</td>\n",
       "      <td>0.315534</td>\n",
       "      <td>510</td>\n",
       "      <td>Алгебра та геометрія ПМ-2</td>\n",
       "      <td>Group</td>\n",
       "      <td>{'user_id': 418938213, 'first_name': 'Vita', '...</td>\n",
       "    </tr>\n",
       "  </tbody>\n",
       "</table>\n",
       "</div>"
      ],
      "text/plain": [
       "   dialog_id   sentiment    result  count                       name  \\\n",
       "0  653149110    1.579867  0.789933      2          thegreatpretender   \n",
       "1  392408312    1.300753  0.433584      3             Alina Voronina   \n",
       "2  564262388    5.318493  0.409115     13                 Andriana P   \n",
       "3  280169349    2.037530  0.407506      5                          T   \n",
       "4  425228257    8.408172  0.400389     21          Маргарита Дуденко   \n",
       "5  470773767    2.787358  0.398194      7                 Kate Korol   \n",
       "6  436745155    0.370064  0.370064      1                       Катя   \n",
       "7  427207286    7.401098  0.370055     20                      Льоля   \n",
       "8 -593686724  160.922535  0.315534    510  Алгебра та геометрія ПМ-2   \n",
       "9 -593686724  160.922535  0.315534    510  Алгебра та геометрія ПМ-2   \n",
       "\n",
       "             type                                              users  \n",
       "0  Private dialog  {'user_id': 653149110, 'first_name': 'thegreat...  \n",
       "1  Private dialog  {'user_id': 392408312, 'first_name': 'Alina', ...  \n",
       "2  Private dialog  {'user_id': 564262388, 'first_name': 'Andriana...  \n",
       "3  Private dialog  {'user_id': 280169349, 'first_name': 'T', 'las...  \n",
       "4  Private dialog  {'user_id': 425228257, 'first_name': 'Маргарит...  \n",
       "5  Private dialog  {'user_id': 470773767, 'first_name': 'Kate', '...  \n",
       "6  Private dialog  {'user_id': 436745155, 'first_name': 'Катя', '...  \n",
       "7  Private dialog  {'user_id': 427207286, 'first_name': 'Льоля', ...  \n",
       "8           Group  {'user_id': 402169082, 'first_name': 'Igor', '...  \n",
       "9           Group  {'user_id': 418938213, 'first_name': 'Vita', '...  "
      ]
     },
     "execution_count": 270,
     "metadata": {},
     "output_type": "execute_result"
    }
   ],
   "source": [
    "final_merged = final.merge(df_meta, on='dialog_id')\n",
    "merged = a.merge(b, on='dialog_id')"
   ]
  },
  {
   "cell_type": "code",
   "execution_count": 282,
   "id": "1bb1bad3",
   "metadata": {},
   "outputs": [
    {
     "data": {
      "text/html": [
       "<div>\n",
       "<style scoped>\n",
       "    .dataframe tbody tr th:only-of-type {\n",
       "        vertical-align: middle;\n",
       "    }\n",
       "\n",
       "    .dataframe tbody tr th {\n",
       "        vertical-align: top;\n",
       "    }\n",
       "\n",
       "    .dataframe thead th {\n",
       "        text-align: right;\n",
       "    }\n",
       "</style>\n",
       "<table border=\"1\" class=\"dataframe\">\n",
       "  <thead>\n",
       "    <tr style=\"text-align: right;\">\n",
       "      <th></th>\n",
       "      <th>dialog_id</th>\n",
       "      <th>sentiment</th>\n",
       "      <th>result</th>\n",
       "      <th>count</th>\n",
       "      <th>name</th>\n",
       "      <th>type</th>\n",
       "      <th>users</th>\n",
       "    </tr>\n",
       "  </thead>\n",
       "  <tbody>\n",
       "    <tr>\n",
       "      <th>0</th>\n",
       "      <td>653149110</td>\n",
       "      <td>1.579867</td>\n",
       "      <td>0.789933</td>\n",
       "      <td>2</td>\n",
       "      <td>thegreatpretender</td>\n",
       "      <td>Private dialog</td>\n",
       "      <td>{'user_id': 653149110, 'first_name': 'thegreat...</td>\n",
       "    </tr>\n",
       "    <tr>\n",
       "      <th>1</th>\n",
       "      <td>392408312</td>\n",
       "      <td>1.300753</td>\n",
       "      <td>0.433584</td>\n",
       "      <td>3</td>\n",
       "      <td>Alina Voronina</td>\n",
       "      <td>Private dialog</td>\n",
       "      <td>{'user_id': 392408312, 'first_name': 'Alina', ...</td>\n",
       "    </tr>\n",
       "    <tr>\n",
       "      <th>2</th>\n",
       "      <td>564262388</td>\n",
       "      <td>5.318493</td>\n",
       "      <td>0.409115</td>\n",
       "      <td>13</td>\n",
       "      <td>Andriana P</td>\n",
       "      <td>Private dialog</td>\n",
       "      <td>{'user_id': 564262388, 'first_name': 'Andriana...</td>\n",
       "    </tr>\n",
       "    <tr>\n",
       "      <th>3</th>\n",
       "      <td>280169349</td>\n",
       "      <td>2.037530</td>\n",
       "      <td>0.407506</td>\n",
       "      <td>5</td>\n",
       "      <td>T</td>\n",
       "      <td>Private dialog</td>\n",
       "      <td>{'user_id': 280169349, 'first_name': 'T', 'las...</td>\n",
       "    </tr>\n",
       "    <tr>\n",
       "      <th>4</th>\n",
       "      <td>425228257</td>\n",
       "      <td>8.408172</td>\n",
       "      <td>0.400389</td>\n",
       "      <td>21</td>\n",
       "      <td>Маргарита Дуденко</td>\n",
       "      <td>Private dialog</td>\n",
       "      <td>{'user_id': 425228257, 'first_name': 'Маргарит...</td>\n",
       "    </tr>\n",
       "    <tr>\n",
       "      <th>5</th>\n",
       "      <td>470773767</td>\n",
       "      <td>2.787358</td>\n",
       "      <td>0.398194</td>\n",
       "      <td>7</td>\n",
       "      <td>Kate Korol</td>\n",
       "      <td>Private dialog</td>\n",
       "      <td>{'user_id': 470773767, 'first_name': 'Kate', '...</td>\n",
       "    </tr>\n",
       "    <tr>\n",
       "      <th>6</th>\n",
       "      <td>436745155</td>\n",
       "      <td>0.370064</td>\n",
       "      <td>0.370064</td>\n",
       "      <td>1</td>\n",
       "      <td>Катя</td>\n",
       "      <td>Private dialog</td>\n",
       "      <td>{'user_id': 436745155, 'first_name': 'Катя', '...</td>\n",
       "    </tr>\n",
       "    <tr>\n",
       "      <th>7</th>\n",
       "      <td>427207286</td>\n",
       "      <td>7.401098</td>\n",
       "      <td>0.370055</td>\n",
       "      <td>20</td>\n",
       "      <td>Льоля</td>\n",
       "      <td>Private dialog</td>\n",
       "      <td>{'user_id': 427207286, 'first_name': 'Льоля', ...</td>\n",
       "    </tr>\n",
       "    <tr>\n",
       "      <th>39</th>\n",
       "      <td>-593686724</td>\n",
       "      <td>160.922535</td>\n",
       "      <td>0.315534</td>\n",
       "      <td>510</td>\n",
       "      <td>Алгебра та геометрія ПМ-2</td>\n",
       "      <td>Group</td>\n",
       "      <td>{'user_id': 380133204, 'first_name': 'Pavlo Ya...</td>\n",
       "    </tr>\n",
       "    <tr>\n",
       "      <th>71</th>\n",
       "      <td>-1001393785264</td>\n",
       "      <td>276.416986</td>\n",
       "      <td>0.297863</td>\n",
       "      <td>928</td>\n",
       "      <td>ДИСКРЕТНА МАТЕМАТИКА</td>\n",
       "      <td>Group</td>\n",
       "      <td>{'user_id': 559072245, 'first_name': 'Катя', '...</td>\n",
       "    </tr>\n",
       "  </tbody>\n",
       "</table>\n",
       "</div>"
      ],
      "text/plain": [
       "        dialog_id   sentiment    result  count                       name  \\\n",
       "0       653149110    1.579867  0.789933      2          thegreatpretender   \n",
       "1       392408312    1.300753  0.433584      3             Alina Voronina   \n",
       "2       564262388    5.318493  0.409115     13                 Andriana P   \n",
       "3       280169349    2.037530  0.407506      5                          T   \n",
       "4       425228257    8.408172  0.400389     21          Маргарита Дуденко   \n",
       "5       470773767    2.787358  0.398194      7                 Kate Korol   \n",
       "6       436745155    0.370064  0.370064      1                       Катя   \n",
       "7       427207286    7.401098  0.370055     20                      Льоля   \n",
       "39     -593686724  160.922535  0.315534    510  Алгебра та геометрія ПМ-2   \n",
       "71 -1001393785264  276.416986  0.297863    928       ДИСКРЕТНА МАТЕМАТИКА   \n",
       "\n",
       "              type                                              users  \n",
       "0   Private dialog  {'user_id': 653149110, 'first_name': 'thegreat...  \n",
       "1   Private dialog  {'user_id': 392408312, 'first_name': 'Alina', ...  \n",
       "2   Private dialog  {'user_id': 564262388, 'first_name': 'Andriana...  \n",
       "3   Private dialog  {'user_id': 280169349, 'first_name': 'T', 'las...  \n",
       "4   Private dialog  {'user_id': 425228257, 'first_name': 'Маргарит...  \n",
       "5   Private dialog  {'user_id': 470773767, 'first_name': 'Kate', '...  \n",
       "6   Private dialog  {'user_id': 436745155, 'first_name': 'Катя', '...  \n",
       "7   Private dialog  {'user_id': 427207286, 'first_name': 'Льоля', ...  \n",
       "39           Group  {'user_id': 380133204, 'first_name': 'Pavlo Ya...  \n",
       "71           Group  {'user_id': 559072245, 'first_name': 'Катя', '...  "
      ]
     },
     "execution_count": 282,
     "metadata": {},
     "output_type": "execute_result"
    }
   ],
   "source": [
    "final_positive = final_merged.sort_values(['result'], ascending=[False])\n",
    "final_positive = final_positive.drop_duplicates(subset =\"dialog_id\",keep = 'first')\n",
    "pl_positive = final_positive.head(10)\n",
    "pl_positive"
   ]
  },
  {
   "cell_type": "markdown",
   "id": "838e8875",
   "metadata": {},
   "source": [
    "### Top-10 dialogs with the most positive sentiment"
   ]
  },
  {
   "cell_type": "code",
   "execution_count": 314,
   "id": "4595c179",
   "metadata": {},
   "outputs": [
    {
     "data": {
      "image/png": "[encoded data removed]",
      "text/plain": [
       "<Figure size 640x480 with 1 Axes>"
      ]
     },
     "metadata": {},
     "output_type": "display_data"
    }
   ],
   "source": [
    "fig, ax = plt.subplots(nrows=1, ncols=1, facecolor='white')\n",
    "pl_positive['colors'] = 'yellow'\n",
    "pl_positive.loc[pl_positive.type == 'Group','colors'] = 'b'\n",
    "ax.bar(pl_positive.name, pl_positive.result, color=pl_positive.colors)\n",
    "plt.xticks(rotation=90)\n",
    "plt.show()"
   ]
  },
  {
   "cell_type": "code",
   "execution_count": 291,
   "id": "44646cdd",
   "metadata": {},
   "outputs": [
    {
     "data": {
      "text/html": [
       "<div>\n",
       "<style scoped>\n",
       "    .dataframe tbody tr th:only-of-type {\n",
       "        vertical-align: middle;\n",
       "    }\n",
       "\n",
       "    .dataframe tbody tr th {\n",
       "        vertical-align: top;\n",
       "    }\n",
       "\n",
       "    .dataframe thead th {\n",
       "        text-align: right;\n",
       "    }\n",
       "</style>\n",
       "<table border=\"1\" class=\"dataframe\">\n",
       "  <thead>\n",
       "    <tr style=\"text-align: right;\">\n",
       "      <th></th>\n",
       "      <th>dialog_id</th>\n",
       "      <th>sentiment</th>\n",
       "      <th>result</th>\n",
       "      <th>count</th>\n",
       "      <th>name</th>\n",
       "      <th>type</th>\n",
       "      <th>users</th>\n",
       "    </tr>\n",
       "  </thead>\n",
       "  <tbody>\n",
       "    <tr>\n",
       "      <th>2752</th>\n",
       "      <td>674447504</td>\n",
       "      <td>0.0000</td>\n",
       "      <td>-0.500000</td>\n",
       "      <td>2</td>\n",
       "      <td>Anastasiia</td>\n",
       "      <td>Private dialog</td>\n",
       "      <td>{'user_id': 674447504, 'first_name': 'Anastasi...</td>\n",
       "    </tr>\n",
       "    <tr>\n",
       "      <th>2751</th>\n",
       "      <td>406783127</td>\n",
       "      <td>0.0000</td>\n",
       "      <td>-0.333333</td>\n",
       "      <td>3</td>\n",
       "      <td>wmorgun</td>\n",
       "      <td>Private dialog</td>\n",
       "      <td>{'user_id': 406783127, 'first_name': 'wmorgun'...</td>\n",
       "    </tr>\n",
       "    <tr>\n",
       "      <th>2750</th>\n",
       "      <td>544701196</td>\n",
       "      <td>0.0000</td>\n",
       "      <td>-0.250000</td>\n",
       "      <td>4</td>\n",
       "      <td>Ярослав Шелемей</td>\n",
       "      <td>Private dialog</td>\n",
       "      <td>{'user_id': 544701196, 'first_name': 'Ярослав'...</td>\n",
       "    </tr>\n",
       "    <tr>\n",
       "      <th>2749</th>\n",
       "      <td>831915662</td>\n",
       "      <td>0.0000</td>\n",
       "      <td>-0.100000</td>\n",
       "      <td>10</td>\n",
       "      <td>Ольга Синюк</td>\n",
       "      <td>Private dialog</td>\n",
       "      <td>{'user_id': 831915662, 'first_name': 'Ольга', ...</td>\n",
       "    </tr>\n",
       "    <tr>\n",
       "      <th>2748</th>\n",
       "      <td>1092277326</td>\n",
       "      <td>-0.3751</td>\n",
       "      <td>-0.093775</td>\n",
       "      <td>4</td>\n",
       "      <td>Николай</td>\n",
       "      <td>Private dialog</td>\n",
       "      <td>{'user_id': 1092277326, 'first_name': 'Николай...</td>\n",
       "    </tr>\n",
       "    <tr>\n",
       "      <th>2747</th>\n",
       "      <td>-1001761570307</td>\n",
       "      <td>0.0000</td>\n",
       "      <td>-0.090909</td>\n",
       "      <td>11</td>\n",
       "      <td>стаді</td>\n",
       "      <td>Channel</td>\n",
       "      <td>{'user_id': 559072245, 'first_name': 'Катя', '...</td>\n",
       "    </tr>\n",
       "    <tr>\n",
       "      <th>2746</th>\n",
       "      <td>-1001522361915</td>\n",
       "      <td>0.0000</td>\n",
       "      <td>-0.083333</td>\n",
       "      <td>12</td>\n",
       "      <td>Lou</td>\n",
       "      <td>Channel</td>\n",
       "      <td>{'user_id': 559072245, 'first_name': 'Катя', '...</td>\n",
       "    </tr>\n",
       "    <tr>\n",
       "      <th>2745</th>\n",
       "      <td>457892070</td>\n",
       "      <td>0.0000</td>\n",
       "      <td>-0.076923</td>\n",
       "      <td>13</td>\n",
       "      <td>Instaphoto</td>\n",
       "      <td>Private dialog</td>\n",
       "      <td>{'user_id': 457892070, 'first_name': 'Instapho...</td>\n",
       "    </tr>\n",
       "    <tr>\n",
       "      <th>2744</th>\n",
       "      <td>-385830320</td>\n",
       "      <td>0.0000</td>\n",
       "      <td>-0.062500</td>\n",
       "      <td>16</td>\n",
       "      <td>Marketing💥</td>\n",
       "      <td>Group</td>\n",
       "      <td>{'user_id': 436745155, 'first_name': 'Катя', '...</td>\n",
       "    </tr>\n",
       "    <tr>\n",
       "      <th>2737</th>\n",
       "      <td>-1001532166386</td>\n",
       "      <td>0.0000</td>\n",
       "      <td>-0.035714</td>\n",
       "      <td>28</td>\n",
       "      <td>Hazza</td>\n",
       "      <td>Channel</td>\n",
       "      <td>{'user_id': 559072245, 'first_name': 'Катя', '...</td>\n",
       "    </tr>\n",
       "  </tbody>\n",
       "</table>\n",
       "</div>"
      ],
      "text/plain": [
       "          dialog_id  sentiment    result  count             name  \\\n",
       "2752      674447504     0.0000 -0.500000      2       Anastasiia   \n",
       "2751      406783127     0.0000 -0.333333      3          wmorgun   \n",
       "2750      544701196     0.0000 -0.250000      4  Ярослав Шелемей   \n",
       "2749      831915662     0.0000 -0.100000     10      Ольга Синюк   \n",
       "2748     1092277326    -0.3751 -0.093775      4          Николай   \n",
       "2747 -1001761570307     0.0000 -0.090909     11            стаді   \n",
       "2746 -1001522361915     0.0000 -0.083333     12              Lou   \n",
       "2745      457892070     0.0000 -0.076923     13       Instaphoto   \n",
       "2744     -385830320     0.0000 -0.062500     16       Marketing💥   \n",
       "2737 -1001532166386     0.0000 -0.035714     28            Hazza   \n",
       "\n",
       "                type                                              users  \n",
       "2752  Private dialog  {'user_id': 674447504, 'first_name': 'Anastasi...  \n",
       "2751  Private dialog  {'user_id': 406783127, 'first_name': 'wmorgun'...  \n",
       "2750  Private dialog  {'user_id': 544701196, 'first_name': 'Ярослав'...  \n",
       "2749  Private dialog  {'user_id': 831915662, 'first_name': 'Ольга', ...  \n",
       "2748  Private dialog  {'user_id': 1092277326, 'first_name': 'Николай...  \n",
       "2747         Channel  {'user_id': 559072245, 'first_name': 'Катя', '...  \n",
       "2746         Channel  {'user_id': 559072245, 'first_name': 'Катя', '...  \n",
       "2745  Private dialog  {'user_id': 457892070, 'first_name': 'Instapho...  \n",
       "2744           Group  {'user_id': 436745155, 'first_name': 'Катя', '...  \n",
       "2737         Channel  {'user_id': 559072245, 'first_name': 'Катя', '...  "
      ]
     },
     "execution_count": 291,
     "metadata": {},
     "output_type": "execute_result"
    }
   ],
   "source": [
    "final_negative = final_merged.sort_values(['result'], ascending=[True])\n",
    "final_negative = final_negative.drop_duplicates(subset =\"dialog_id\",keep = 'first')\n",
    "pl_negative = final_negative.head(10)\n",
    "pl_negative"
   ]
  },
  {
   "cell_type": "markdown",
   "id": "e7cec461",
   "metadata": {},
   "source": [
    "### Top-10 dialogs with the most negative sentiment"
   ]
  },
  {
   "cell_type": "code",
   "execution_count": 303,
   "id": "69e95bb3",
   "metadata": {},
   "outputs": [
    {
     "data": {
      "image/png": "[encoded data removed]",
      "text/plain": [
       "<Figure size 640x480 with 1 Axes>"
      ]
     },
     "metadata": {},
     "output_type": "display_data"
    }
   ],
   "source": [
    "fig, ax = plt.subplots(nrows=1, ncols=1, facecolor='white')\n",
    "pl_negative['colors'] = 'b'\n",
    "pl_negative.loc[pl_negative.type == 'Private dialog','colors'] = 'yellow'\n",
    "pl_negative.loc[pl_negative.type == 'Channel','colors'] = 'r'\n",
    "ax.bar(pl_negative.name, pl_negative.result, color=pl_negative.colors)\n",
    "plt.xticks(rotation=90)\n",
    "plt.show()"
   ]
  },
  {
   "cell_type": "code",
   "execution_count": null,
   "id": "28bf4750",
   "metadata": {},
   "outputs": [],
   "source": []
  }
 ],
 "metadata": {
  "kernelspec": {
   "display_name": "Python 3 (ipykernel)",
   "language": "python",
   "name": "python3"
  },
  "language_info": {
   "codemirror_mode": {
    "name": "ipython",
    "version": 3
   },
   "file_extension": ".py",
   "mimetype": "text/x-python",
   "name": "python",
   "nbconvert_exporter": "python",
   "pygments_lexer": "ipython3",
   "version": "3.9.7"
  }
 },
 "nbformat": 4,
 "nbformat_minor": 5
}
